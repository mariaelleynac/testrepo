{
 "cells": [
  {
   "cell_type": "markdown",
   "metadata": {},
   "source": [
    "<center><img src=\"https://cf-courses-data.s3.us.cloud-object-storage.appdomain.cloud/assets/logos/SN_web_lightmode.png\" width=\"300\"></center><br/>\n",
    "\n",
    "# Assignment: Notebook for Peer Assignment\n",
    "\n",
    "Estimated time needed: 60 minutes\n"
   ]
  },
  {
   "cell_type": "markdown",
   "metadata": {},
   "source": [
    "# Assignment Scenario\n",
    "\n",
    "Congratulations! You have just been hired by a US Weather forecast firm as a data scientist.\n",
    "\n",
    "The company is considering the weather condition to help predict the possibility of precipitations, which involves using various local climatological variables, including temperature, wind speed, humidity, dew point, and pressure. The data you will be handling was collected by a NOAA weather station located at the John F. Kennedy International Airport in Queens, New York.\n",
    "\n",
    "Your task is to provide a high level analysis of weather data in JFK Airport. Your stakeholders want to understand the current and historical record of precipitations based on different variables. For now they are mainly interested in a macro-view of JFK Airport Weather, and how it relates to the possibility to rain because it will affect flight delays and etc.\n"
   ]
  },
  {
   "cell_type": "markdown",
   "metadata": {},
   "source": [
    "# Introduction\n",
    "\n",
    "This project relates to the NOAA Weather Dataset - JFK Airport (New York). The original dataset contains 114,546 hourly observations of 12 local climatological variables (such as temperature and wind speed) collected at JFK airport. This dataset can be obtained for free from the IBM Developer [Data Asset Exchange](https://developer.ibm.com/exchanges/data/all/jfk-weather-data/?utm_medium=Exinfluencer&utm_source=Exinfluencer&utm_content=000026UJ&utm_term=10006555&utm_id=NA-SkillsNetwork-Channel-SkillsNetworkCoursesIBMDA0151ENSkillsNetwork926-2022-01-01). \n",
    "\n",
    "For this project, you will be using a subset dataset, which contains 5727 rows (about 5% or original rows) and 9 columns. The end goal will be to predict the precipitation using some of the available features. In this project, you will practice reading data files, preprocessing data, creating models, improving models and evaluating them to ultimately choose the best model.\n",
    "\n"
   ]
  },
  {
   "cell_type": "markdown",
   "metadata": {},
   "source": [
    "\n",
    "## Table of Contents:\n",
    "\n",
    "Using this R notebook you will complete **10 tasks**:\n",
    "* [0. Import Modules](#cell0)\n",
    "* [1. Download and Unzip NOAA Weather Dataset](#cell1)\n",
    "* [2. Read Dataset into Project](#cell2)\n",
    "* [3. Select Subset of Columns](#cell3)\n",
    "* [4. Clean Up Columns](#cell4)\n",
    "* [5. Convert Columns to Numerical Types](#cell5)\n",
    "* [6. Rename Columns](#cell6)\n",
    "* [7. Exploratory Data Analysis](#cell7)\n",
    "* [8. Linear Regression](#cell8)\n",
    "* [9. Improve the Model](#cell9)\n",
    "* [10. Find Best Model](#cell10)\n",
    "\n",
    "\n",
    "<a id=\"cell0\"></a>\n",
    "## 0. Import required modules\n",
    "\n",
    "Below, install \"tidymodels\", additionally \"rlang\" should be updated in order to properly run \"tidymodels\". \n"
   ]
  },
  {
   "cell_type": "code",
   "execution_count": 5,
   "metadata": {},
   "outputs": [
    {
     "name": "stderr",
     "output_type": "stream",
     "text": [
      "Updating HTML index of packages in '.Library'\n",
      "Making 'packages.html' ... done\n",
      "also installing the dependencies ‘cachem’, ‘tzdb’, ‘timechange’, ‘warp’, ‘memoise’, ‘vctrs’, ‘lifecycle’, ‘tidyselect’, ‘pillar’, ‘scales’, ‘withr’, ‘glue’, ‘patchwork’, ‘generics’, ‘clock’, ‘ipred’, ‘lubridate’, ‘slider’, ‘cpp11’, ‘modelenv’, ‘broom’, ‘cli’, ‘conflicted’, ‘dials’, ‘dplyr’, ‘ggplot2’, ‘hardhat’, ‘infer’, ‘modeldata’, ‘parsnip’, ‘recipes’, ‘rsample’, ‘rstudioapi’, ‘tibble’, ‘tidyr’, ‘tune’, ‘workflows’, ‘workflowsets’, ‘yardstick’\n",
      "\n",
      "Updating HTML index of packages in '.Library'\n",
      "Making 'packages.html' ... done\n"
     ]
    }
   ],
   "source": [
    "install.packages(\"rlang\")\n",
    "install.packages(\"tidymodels\")"
   ]
  },
  {
   "cell_type": "markdown",
   "metadata": {},
   "source": [
    "**Note: After installing the packages, restart the kernel. Without installing the packages again, load them. Tidyverse and Tidymodels will be the two main packages you will use.**\n"
   ]
  },
  {
   "cell_type": "code",
   "execution_count": 1,
   "metadata": {},
   "outputs": [
    {
     "name": "stderr",
     "output_type": "stream",
     "text": [
      "── Attaching packages ────────────────────────────────────── tidymodels 0.1.0 ──\n",
      "✔ broom     0.5.6      ✔ recipes   0.1.12\n",
      "✔ dials     0.0.6      ✔ rsample   0.0.5 \n",
      "✔ dplyr     0.8.5      ✔ tibble    3.0.1 \n",
      "✔ ggplot2   3.3.0      ✔ tune      0.1.0 \n",
      "✔ infer     0.5.1      ✔ workflows 0.1.1 \n",
      "✔ parsnip   0.1.0      ✔ yardstick 0.0.6 \n",
      "✔ purrr     0.3.4      \n",
      "── Conflicts ───────────────────────────────────────── tidymodels_conflicts() ──\n",
      "✖ purrr::discard()  masks scales::discard()\n",
      "✖ dplyr::filter()   masks stats::filter()\n",
      "✖ dplyr::lag()      masks stats::lag()\n",
      "✖ ggplot2::margin() masks dials::margin()\n",
      "✖ recipes::step()   masks stats::step()\n",
      "── Attaching packages ─────────────────────────────────────── tidyverse 1.3.0 ──\n",
      "✔ readr   1.3.1     ✔ forcats 0.5.0\n",
      "✔ stringr 1.4.0     \n",
      "── Conflicts ────────────────────────────────────────── tidyverse_conflicts() ──\n",
      "✖ readr::col_factor() masks scales::col_factor()\n",
      "✖ purrr::discard()    masks scales::discard()\n",
      "✖ dplyr::filter()     masks stats::filter()\n",
      "✖ stringr::fixed()    masks recipes::fixed()\n",
      "✖ dplyr::lag()        masks stats::lag()\n",
      "✖ ggplot2::margin()   masks dials::margin()\n",
      "✖ readr::spec()       masks yardstick::spec()\n"
     ]
    }
   ],
   "source": [
    "# Library for modeling\n",
    "library(tidymodels)\n",
    "\n",
    "# Load tidyverse\n",
    "library(tidyverse)"
   ]
  },
  {
   "cell_type": "markdown",
   "metadata": {},
   "source": [
    "\n",
    "### Understand the Dataset\n",
    "\n",
    "The original NOAA JFK dataset contains 114,546 hourly observations of various local climatological variables (including temperature, wind speed, humidity, dew point, and pressure). \n",
    "\n",
    "In this project you will use a sample dataset, which is around 293 KB. [Link to the sample dataset](https://dax-cdn.cdn.appdomain.cloud/dax-noaa-weather-data-jfk-airport/1.1.4/noaa-weather-sample-data.tar.gz).\n",
    "\n",
    "The sample contains 5727 rows (about 5% or original rows) and 9 columns, which are:\n",
    "- DATE\n",
    "- HOURLYDewPointTempF\n",
    "- HOURLYRelativeHumidity\n",
    "- HOURLYDRYBULBTEMPF\n",
    "- HOURLYWETBULBTEMPF\n",
    "- HOURLYPrecip\n",
    "- HOURLYWindSpeed\n",
    "- HOURLYSeaLevelPressure\n",
    "- HOURLYStationPressure\n",
    "\n",
    "The original dataset is much bigger. Feel free to explore the original dataset. [Link to the original dataset.](https://dax-cdn.cdn.appdomain.cloud/dax-noaa-weather-data-jfk-airport/1.1.4/noaa_weather.html) \n",
    "\n",
    "For more information about the dataset, checkout the [preview](https://dax-cdn.cdn.appdomain.cloud/dax-noaa-weather-data-jfk-airport/1.1.4/data-preview/index.html?_ga=2.176781478.281508226.1616293518-1509963377.1616117067&cm_mc_uid=90945889198916153255549&cm_mc_sid_50200000=64650651616293516933) of NOAA Weather - JFK Airport.\n"
   ]
  },
  {
   "cell_type": "markdown",
   "metadata": {},
   "source": [
    "<a id=\"cell1\"></a>\n",
    "\n",
    "## 1. Download NOAA Weather Dataset\n",
    "\n",
    "Use the `download.file()` function to download the sample dataset from the URL below.\n",
    "\n",
    "URL = 'https://dax-cdn.cdn.appdomain.cloud/dax-noaa-weather-data-jfk-airport/1.1.4/noaa-weather-sample-data.tar.gz'\n"
   ]
  },
  {
   "cell_type": "code",
   "execution_count": 2,
   "metadata": {},
   "outputs": [],
   "source": [
    "# URL where the data is located\n",
    "url <- \"https://dax-cdn.cdn.appdomain.cloud/dax-noaa-weather-data-jfk-airport/1.1.4/noaa-weather-sample-data.tar.gz\"\n",
    "\n",
    "# download the file\n",
    "download.file(url, destfile = \"noaa-weather-sample-data.tar.gz\")"
   ]
  },
  {
   "cell_type": "markdown",
   "metadata": {},
   "source": [
    "Untar the zipped file.\n"
   ]
  },
  {
   "cell_type": "code",
   "execution_count": 3,
   "metadata": {},
   "outputs": [
    {
     "name": "stderr",
     "output_type": "stream",
     "text": [
      "Warning message in untar2(tarfile, files, list, exdir, restore_times):\n",
      "“using pax extended headers”"
     ]
    }
   ],
   "source": [
    "untar(\"noaa-weather-sample-data.tar.gz\", tar = \"internal\")"
   ]
  },
  {
   "cell_type": "markdown",
   "metadata": {},
   "source": [
    "<a id=\"cell2\"></a>\n",
    "## 2. Extract and Read into Project\n",
    "We start by reading in the raw dataset. You should specify the file name as \"noaa-weather-sample-data/jfk_weather_sample.csv\".\n"
   ]
  },
  {
   "cell_type": "code",
   "execution_count": 7,
   "metadata": {},
   "outputs": [
    {
     "name": "stderr",
     "output_type": "stream",
     "text": [
      "Warning message:\n",
      "“393 parsing failures.\n",
      "row          col expected actual                                              file\n",
      "  5 HOURLYPrecip a number      T 'noaa-weather-sample-data/jfk_weather_sample.csv'\n",
      " 29 HOURLYPrecip a number      T 'noaa-weather-sample-data/jfk_weather_sample.csv'\n",
      " 41 HOURLYPrecip a number      T 'noaa-weather-sample-data/jfk_weather_sample.csv'\n",
      " 49 HOURLYPrecip a number      T 'noaa-weather-sample-data/jfk_weather_sample.csv'\n",
      " 64 HOURLYPrecip a number      T 'noaa-weather-sample-data/jfk_weather_sample.csv'\n",
      "... ............ ........ ...... .................................................\n",
      "See problems(...) for more details.\n",
      "”"
     ]
    }
   ],
   "source": [
    "weather_data <- read_csv(\"noaa-weather-sample-data/jfk_weather_sample.csv\",\n",
    "                         col_types = cols('DATE'= col_number(),\n",
    "                                          'HOURLYPrecip' = col_number()))"
   ]
  },
  {
   "cell_type": "markdown",
   "metadata": {},
   "source": [
    "Next, display the first few rows of the dataframe.\n"
   ]
  },
  {
   "cell_type": "code",
   "execution_count": 8,
   "metadata": {},
   "outputs": [
    {
     "data": {
      "text/html": [
       "<table>\n",
       "<caption>A tibble: 6 × 9</caption>\n",
       "<thead>\n",
       "\t<tr><th scope=col>DATE</th><th scope=col>HOURLYDewPointTempF</th><th scope=col>HOURLYRelativeHumidity</th><th scope=col>HOURLYDRYBULBTEMPF</th><th scope=col>HOURLYWETBULBTEMPF</th><th scope=col>HOURLYPrecip</th><th scope=col>HOURLYWindSpeed</th><th scope=col>HOURLYSeaLevelPressure</th><th scope=col>HOURLYStationPressure</th></tr>\n",
       "\t<tr><th scope=col>&lt;dbl&gt;</th><th scope=col>&lt;dbl&gt;</th><th scope=col>&lt;dbl&gt;</th><th scope=col>&lt;dbl&gt;</th><th scope=col>&lt;dbl&gt;</th><th scope=col>&lt;dbl&gt;</th><th scope=col>&lt;dbl&gt;</th><th scope=col>&lt;dbl&gt;</th><th scope=col>&lt;dbl&gt;</th></tr>\n",
       "</thead>\n",
       "<tbody>\n",
       "\t<tr><td>2015</td><td>60</td><td>46</td><td>83</td><td>68</td><td> 0</td><td>13</td><td>30.01</td><td>29.99</td></tr>\n",
       "\t<tr><td>2016</td><td>34</td><td>48</td><td>53</td><td>44</td><td> 0</td><td> 6</td><td>30.05</td><td>30.03</td></tr>\n",
       "\t<tr><td>2013</td><td>33</td><td>89</td><td>36</td><td>35</td><td> 0</td><td>13</td><td>30.14</td><td>30.12</td></tr>\n",
       "\t<tr><td>2011</td><td>18</td><td>48</td><td>36</td><td>30</td><td> 0</td><td>14</td><td>29.82</td><td>29.80</td></tr>\n",
       "\t<tr><td>2015</td><td>27</td><td>61</td><td>39</td><td>34</td><td>NA</td><td>11</td><td>   NA</td><td>30.50</td></tr>\n",
       "\t<tr><td>2013</td><td>35</td><td>79</td><td>41</td><td>38</td><td> 0</td><td> 6</td><td>29.94</td><td>29.92</td></tr>\n",
       "</tbody>\n",
       "</table>\n"
      ],
      "text/latex": [
       "A tibble: 6 × 9\n",
       "\\begin{tabular}{lllllllll}\n",
       " DATE & HOURLYDewPointTempF & HOURLYRelativeHumidity & HOURLYDRYBULBTEMPF & HOURLYWETBULBTEMPF & HOURLYPrecip & HOURLYWindSpeed & HOURLYSeaLevelPressure & HOURLYStationPressure\\\\\n",
       " <dbl> & <dbl> & <dbl> & <dbl> & <dbl> & <dbl> & <dbl> & <dbl> & <dbl>\\\\\n",
       "\\hline\n",
       "\t 2015 & 60 & 46 & 83 & 68 &  0 & 13 & 30.01 & 29.99\\\\\n",
       "\t 2016 & 34 & 48 & 53 & 44 &  0 &  6 & 30.05 & 30.03\\\\\n",
       "\t 2013 & 33 & 89 & 36 & 35 &  0 & 13 & 30.14 & 30.12\\\\\n",
       "\t 2011 & 18 & 48 & 36 & 30 &  0 & 14 & 29.82 & 29.80\\\\\n",
       "\t 2015 & 27 & 61 & 39 & 34 & NA & 11 &    NA & 30.50\\\\\n",
       "\t 2013 & 35 & 79 & 41 & 38 &  0 &  6 & 29.94 & 29.92\\\\\n",
       "\\end{tabular}\n"
      ],
      "text/markdown": [
       "\n",
       "A tibble: 6 × 9\n",
       "\n",
       "| DATE &lt;dbl&gt; | HOURLYDewPointTempF &lt;dbl&gt; | HOURLYRelativeHumidity &lt;dbl&gt; | HOURLYDRYBULBTEMPF &lt;dbl&gt; | HOURLYWETBULBTEMPF &lt;dbl&gt; | HOURLYPrecip &lt;dbl&gt; | HOURLYWindSpeed &lt;dbl&gt; | HOURLYSeaLevelPressure &lt;dbl&gt; | HOURLYStationPressure &lt;dbl&gt; |\n",
       "|---|---|---|---|---|---|---|---|---|\n",
       "| 2015 | 60 | 46 | 83 | 68 |  0 | 13 | 30.01 | 29.99 |\n",
       "| 2016 | 34 | 48 | 53 | 44 |  0 |  6 | 30.05 | 30.03 |\n",
       "| 2013 | 33 | 89 | 36 | 35 |  0 | 13 | 30.14 | 30.12 |\n",
       "| 2011 | 18 | 48 | 36 | 30 |  0 | 14 | 29.82 | 29.80 |\n",
       "| 2015 | 27 | 61 | 39 | 34 | NA | 11 |    NA | 30.50 |\n",
       "| 2013 | 35 | 79 | 41 | 38 |  0 |  6 | 29.94 | 29.92 |\n",
       "\n"
      ],
      "text/plain": [
       "  DATE HOURLYDewPointTempF HOURLYRelativeHumidity HOURLYDRYBULBTEMPF\n",
       "1 2015 60                  46                     83                \n",
       "2 2016 34                  48                     53                \n",
       "3 2013 33                  89                     36                \n",
       "4 2011 18                  48                     36                \n",
       "5 2015 27                  61                     39                \n",
       "6 2013 35                  79                     41                \n",
       "  HOURLYWETBULBTEMPF HOURLYPrecip HOURLYWindSpeed HOURLYSeaLevelPressure\n",
       "1 68                  0           13              30.01                 \n",
       "2 44                  0            6              30.05                 \n",
       "3 35                  0           13              30.14                 \n",
       "4 30                  0           14              29.82                 \n",
       "5 34                 NA           11                 NA                 \n",
       "6 38                  0            6              29.94                 \n",
       "  HOURLYStationPressure\n",
       "1 29.99                \n",
       "2 30.03                \n",
       "3 30.12                \n",
       "4 29.80                \n",
       "5 30.50                \n",
       "6 29.92                "
      ]
     },
     "metadata": {},
     "output_type": "display_data"
    }
   ],
   "source": [
    "head(weather_data)"
   ]
  },
  {
   "cell_type": "markdown",
   "metadata": {},
   "source": [
    "Also, take a `glimpse` of the dataset to see the different column data types and make sure it is the correct subset dataset with about 5700 rows and 9 columns.\n"
   ]
  },
  {
   "cell_type": "code",
   "execution_count": 9,
   "metadata": {},
   "outputs": [
    {
     "name": "stdout",
     "output_type": "stream",
     "text": [
      "Rows: 5,727\n",
      "Columns: 9\n",
      "$ DATE                   <dbl> 2015, 2016, 2013, 2011, 2015, 2013, 2014, 2014…\n",
      "$ HOURLYDewPointTempF    <dbl> 60, 34, 33, 18, 27, 35, 4, 14, 51, 71, 76, 19,…\n",
      "$ HOURLYRelativeHumidity <dbl> 46, 48, 89, 48, 61, 79, 51, 65, 90, 94, 79, 37…\n",
      "$ HOURLYDRYBULBTEMPF     <dbl> 83, 53, 36, 36, 39, 41, 19, 24, 54, 73, 83, 44…\n",
      "$ HOURLYWETBULBTEMPF     <dbl> 68, 44, 35, 30, 34, 38, 15, 21, 52, 72, 78, 35…\n",
      "$ HOURLYPrecip           <dbl> 0.00, 0.00, 0.00, 0.00, NA, 0.00, 0.00, 0.00, …\n",
      "$ HOURLYWindSpeed        <dbl> 13, 6, 13, 14, 11, 6, 0, 11, 11, 5, 21, 7, 17,…\n",
      "$ HOURLYSeaLevelPressure <dbl> 30.01, 30.05, 30.14, 29.82, NA, 29.94, 30.42, …\n",
      "$ HOURLYStationPressure  <dbl> 29.99, 30.03, 30.12, 29.80, 30.50, 29.92, 30.4…\n"
     ]
    }
   ],
   "source": [
    "glimpse(weather_data)"
   ]
  },
  {
   "cell_type": "markdown",
   "metadata": {},
   "source": [
    "<a id=\"cell3\"></a>\n",
    "## 3. Select Subset of Columns\n",
    "\n",
    "The end goal of this project will be to predict `HOURLYprecip` (precipitation) using a few other variables. Before you can do this, you first need to preprocess the dataset. Section 3 to section 6 focuses on preprocessing.\n",
    "\n",
    "The first step in preprocessing is to select a subset of data columns and inspect the column types.\n",
    "\n",
    "The key columns that we will explore in this project are:\n",
    "- HOURLYRelativeHumidity\n",
    "- HOURLYDRYBULBTEMPF\n",
    "- HOURLYPrecip\n",
    "- HOURLYWindSpeed\n",
    "- HOURLYStationPressure\n",
    "\n",
    "Data Glossary:\n",
    "- 'HOURLYRelativeHumidity' is the relative humidity given to the nearest whole percentage.\n",
    "- 'HOURLYDRYBULBTEMPF' is the dry-bulb temperature and is commonly used as the standard air temperature reported. It is given here in whole degrees Fahrenheit.\n",
    "- 'HOURLYPrecip' is the amount of precipitation in inches to hundredths over the past hour. For certain automated stations, precipitation will be reported at sub-hourly intervals (e.g. every 15 or 20 minutes) as an accumulated amount of all precipitation within the preceding hour. A “T” indicates a trace amount of precipitation.\n",
    "- 'HOURLYWindSpeed' is the speed of the wind at the time of observation given in miles per hour (mph).\n",
    "- 'HOURLYStationPressure' is the atmospheric pressure observed at the station during the time of observation. Given in inches of Mercury (in Hg).\n",
    "\n",
    "`Select` those five columns and store the modified dataframe as a new variable.\n"
   ]
  },
  {
   "cell_type": "code",
   "execution_count": 12,
   "metadata": {},
   "outputs": [],
   "source": [
    "wea_data <- weather_data %>%\n",
    "    select(c(HOURLYRelativeHumidity,\n",
    "             HOURLYDRYBULBTEMPF,\n",
    "             HOURLYPrecip,\n",
    "             HOURLYWindSpeed,\n",
    "             HOURLYStationPressure))"
   ]
  },
  {
   "cell_type": "markdown",
   "metadata": {},
   "source": [
    "Show the first 10 rows of this new dataframe.\n"
   ]
  },
  {
   "cell_type": "code",
   "execution_count": 13,
   "metadata": {},
   "outputs": [
    {
     "data": {
      "text/html": [
       "<table>\n",
       "<caption>A tibble: 10 × 5</caption>\n",
       "<thead>\n",
       "\t<tr><th scope=col>HOURLYRelativeHumidity</th><th scope=col>HOURLYDRYBULBTEMPF</th><th scope=col>HOURLYPrecip</th><th scope=col>HOURLYWindSpeed</th><th scope=col>HOURLYStationPressure</th></tr>\n",
       "\t<tr><th scope=col>&lt;dbl&gt;</th><th scope=col>&lt;dbl&gt;</th><th scope=col>&lt;dbl&gt;</th><th scope=col>&lt;dbl&gt;</th><th scope=col>&lt;dbl&gt;</th></tr>\n",
       "</thead>\n",
       "<tbody>\n",
       "\t<tr><td>46</td><td>83</td><td>0.00</td><td>13</td><td>29.99</td></tr>\n",
       "\t<tr><td>48</td><td>53</td><td>0.00</td><td> 6</td><td>30.03</td></tr>\n",
       "\t<tr><td>89</td><td>36</td><td>0.00</td><td>13</td><td>30.12</td></tr>\n",
       "\t<tr><td>48</td><td>36</td><td>0.00</td><td>14</td><td>29.80</td></tr>\n",
       "\t<tr><td>61</td><td>39</td><td>  NA</td><td>11</td><td>30.50</td></tr>\n",
       "\t<tr><td>79</td><td>41</td><td>0.00</td><td> 6</td><td>29.92</td></tr>\n",
       "\t<tr><td>51</td><td>19</td><td>0.00</td><td> 0</td><td>30.40</td></tr>\n",
       "\t<tr><td>65</td><td>24</td><td>0.00</td><td>11</td><td>30.35</td></tr>\n",
       "\t<tr><td>90</td><td>54</td><td>0.06</td><td>11</td><td>30.03</td></tr>\n",
       "\t<tr><td>94</td><td>73</td><td>  NA</td><td> 5</td><td>29.91</td></tr>\n",
       "</tbody>\n",
       "</table>\n"
      ],
      "text/latex": [
       "A tibble: 10 × 5\n",
       "\\begin{tabular}{lllll}\n",
       " HOURLYRelativeHumidity & HOURLYDRYBULBTEMPF & HOURLYPrecip & HOURLYWindSpeed & HOURLYStationPressure\\\\\n",
       " <dbl> & <dbl> & <dbl> & <dbl> & <dbl>\\\\\n",
       "\\hline\n",
       "\t 46 & 83 & 0.00 & 13 & 29.99\\\\\n",
       "\t 48 & 53 & 0.00 &  6 & 30.03\\\\\n",
       "\t 89 & 36 & 0.00 & 13 & 30.12\\\\\n",
       "\t 48 & 36 & 0.00 & 14 & 29.80\\\\\n",
       "\t 61 & 39 &   NA & 11 & 30.50\\\\\n",
       "\t 79 & 41 & 0.00 &  6 & 29.92\\\\\n",
       "\t 51 & 19 & 0.00 &  0 & 30.40\\\\\n",
       "\t 65 & 24 & 0.00 & 11 & 30.35\\\\\n",
       "\t 90 & 54 & 0.06 & 11 & 30.03\\\\\n",
       "\t 94 & 73 &   NA &  5 & 29.91\\\\\n",
       "\\end{tabular}\n"
      ],
      "text/markdown": [
       "\n",
       "A tibble: 10 × 5\n",
       "\n",
       "| HOURLYRelativeHumidity &lt;dbl&gt; | HOURLYDRYBULBTEMPF &lt;dbl&gt; | HOURLYPrecip &lt;dbl&gt; | HOURLYWindSpeed &lt;dbl&gt; | HOURLYStationPressure &lt;dbl&gt; |\n",
       "|---|---|---|---|---|\n",
       "| 46 | 83 | 0.00 | 13 | 29.99 |\n",
       "| 48 | 53 | 0.00 |  6 | 30.03 |\n",
       "| 89 | 36 | 0.00 | 13 | 30.12 |\n",
       "| 48 | 36 | 0.00 | 14 | 29.80 |\n",
       "| 61 | 39 |   NA | 11 | 30.50 |\n",
       "| 79 | 41 | 0.00 |  6 | 29.92 |\n",
       "| 51 | 19 | 0.00 |  0 | 30.40 |\n",
       "| 65 | 24 | 0.00 | 11 | 30.35 |\n",
       "| 90 | 54 | 0.06 | 11 | 30.03 |\n",
       "| 94 | 73 |   NA |  5 | 29.91 |\n",
       "\n"
      ],
      "text/plain": [
       "   HOURLYRelativeHumidity HOURLYDRYBULBTEMPF HOURLYPrecip HOURLYWindSpeed\n",
       "1  46                     83                 0.00         13             \n",
       "2  48                     53                 0.00          6             \n",
       "3  89                     36                 0.00         13             \n",
       "4  48                     36                 0.00         14             \n",
       "5  61                     39                   NA         11             \n",
       "6  79                     41                 0.00          6             \n",
       "7  51                     19                 0.00          0             \n",
       "8  65                     24                 0.00         11             \n",
       "9  90                     54                 0.06         11             \n",
       "10 94                     73                   NA          5             \n",
       "   HOURLYStationPressure\n",
       "1  29.99                \n",
       "2  30.03                \n",
       "3  30.12                \n",
       "4  29.80                \n",
       "5  30.50                \n",
       "6  29.92                \n",
       "7  30.40                \n",
       "8  30.35                \n",
       "9  30.03                \n",
       "10 29.91                "
      ]
     },
     "metadata": {},
     "output_type": "display_data"
    }
   ],
   "source": [
    "head(wea_data,10)"
   ]
  },
  {
   "cell_type": "markdown",
   "metadata": {},
   "source": [
    "<a id=\"cell4\"></a>\n",
    "## 4. Clean Up Columns\n",
    "\n",
    "From the dataframe preview above, we can see that the column `HOURLYPrecip` - which is the hourly measure of precipitation levels - contains both `NA` and `T` values. `T` specifies *trace amounts of precipitation* (meaning essentially no precipitation), while `NA` means *not available*, and is used to denote missing values. Additionally, some values also have \"s\" at the end of them, indicating that the precipitation was snow. \n",
    "\n",
    "Inspect the unique values present in the column `HOURLYPrecip` (with `unique(dataframe$column)`) to see these values.\n"
   ]
  },
  {
   "cell_type": "code",
   "execution_count": 14,
   "metadata": {},
   "outputs": [
    {
     "data": {
      "text/html": [
       "<style>\n",
       ".list-inline {list-style: none; margin:0; padding: 0}\n",
       ".list-inline>li {display: inline-block}\n",
       ".list-inline>li:not(:last-child)::after {content: \"\\00b7\"; padding: 0 .5ex}\n",
       "</style>\n",
       "<ol class=list-inline><li>0</li><li>&lt;NA&gt;</li><li>0.06</li><li>0.03</li><li>0.02</li><li>0.08</li><li>0.01</li><li>0.07</li><li>0.16</li><li>0.09</li><li>0.22</li><li>0.24</li><li>0.18</li><li>0.05</li><li>0.04</li><li>0.11</li><li>0.14</li><li>0.25</li><li>0.1</li><li>0.58</li><li>0.12</li><li>0.13</li><li>0.46</li><li>1.07</li><li>1.19</li><li>0.34</li><li>0.2</li><li>0.36</li><li>0.42</li><li>0.17</li><li>0.27</li><li>0.35</li><li>0.31</li><li>0.33</li><li>0.23</li><li>0.26</li><li>0.28</li><li>0.75</li><li>0.19</li><li>0.54</li><li>0.59</li><li>0.21</li></ol>\n"
      ],
      "text/latex": [
       "\\begin{enumerate*}\n",
       "\\item 0\n",
       "\\item <NA>\n",
       "\\item 0.06\n",
       "\\item 0.03\n",
       "\\item 0.02\n",
       "\\item 0.08\n",
       "\\item 0.01\n",
       "\\item 0.07\n",
       "\\item 0.16\n",
       "\\item 0.09\n",
       "\\item 0.22\n",
       "\\item 0.24\n",
       "\\item 0.18\n",
       "\\item 0.05\n",
       "\\item 0.04\n",
       "\\item 0.11\n",
       "\\item 0.14\n",
       "\\item 0.25\n",
       "\\item 0.1\n",
       "\\item 0.58\n",
       "\\item 0.12\n",
       "\\item 0.13\n",
       "\\item 0.46\n",
       "\\item 1.07\n",
       "\\item 1.19\n",
       "\\item 0.34\n",
       "\\item 0.2\n",
       "\\item 0.36\n",
       "\\item 0.42\n",
       "\\item 0.17\n",
       "\\item 0.27\n",
       "\\item 0.35\n",
       "\\item 0.31\n",
       "\\item 0.33\n",
       "\\item 0.23\n",
       "\\item 0.26\n",
       "\\item 0.28\n",
       "\\item 0.75\n",
       "\\item 0.19\n",
       "\\item 0.54\n",
       "\\item 0.59\n",
       "\\item 0.21\n",
       "\\end{enumerate*}\n"
      ],
      "text/markdown": [
       "1. 0\n",
       "2. &lt;NA&gt;\n",
       "3. 0.06\n",
       "4. 0.03\n",
       "5. 0.02\n",
       "6. 0.08\n",
       "7. 0.01\n",
       "8. 0.07\n",
       "9. 0.16\n",
       "10. 0.09\n",
       "11. 0.22\n",
       "12. 0.24\n",
       "13. 0.18\n",
       "14. 0.05\n",
       "15. 0.04\n",
       "16. 0.11\n",
       "17. 0.14\n",
       "18. 0.25\n",
       "19. 0.1\n",
       "20. 0.58\n",
       "21. 0.12\n",
       "22. 0.13\n",
       "23. 0.46\n",
       "24. 1.07\n",
       "25. 1.19\n",
       "26. 0.34\n",
       "27. 0.2\n",
       "28. 0.36\n",
       "29. 0.42\n",
       "30. 0.17\n",
       "31. 0.27\n",
       "32. 0.35\n",
       "33. 0.31\n",
       "34. 0.33\n",
       "35. 0.23\n",
       "36. 0.26\n",
       "37. 0.28\n",
       "38. 0.75\n",
       "39. 0.19\n",
       "40. 0.54\n",
       "41. 0.59\n",
       "42. 0.21\n",
       "\n",
       "\n"
      ],
      "text/plain": [
       " [1] 0.00   NA 0.06 0.03 0.02 0.08 0.01 0.07 0.16 0.09 0.22 0.24 0.18 0.05 0.04\n",
       "[16] 0.11 0.14 0.25 0.10 0.58 0.12 0.13 0.46 1.07 1.19 0.34 0.20 0.36 0.42 0.17\n",
       "[31] 0.27 0.35 0.31 0.33 0.23 0.26 0.28 0.75 0.19 0.54 0.59 0.21"
      ]
     },
     "metadata": {},
     "output_type": "display_data"
    }
   ],
   "source": [
    "unique(wea_data$HOURLYPrecip)"
   ]
  },
  {
   "cell_type": "markdown",
   "metadata": {},
   "source": [
    "Having characters in values (like the \"T\" and \"s\" that you see in the unique values) will cause problems when you create a model because values for precipitation should be numerical. So you need to fix these values that have characters. \n",
    "\n",
    "Now, for the column `HOURLYPrecip`:\n",
    "1. Replace all the `T` values with \"0.0\" and \n",
    "2. Remove \"s\" from values like \"0.02s\". In R, you can use the method `str_remove(column, pattern = \"s$\")` to remove the character \"s\" from the end of values. The \"$\" tells R to match to the end of values. The `pattern` is a regex pattern. Look at [here](https://www.rdocumentation.org/packages/stringi/versions/1.5.3/topics/about_search_regex?utm_medium=Exinfluencer&utm_source=Exinfluencer&utm_content=000026UJ&utm_term=10006555&utm_id=NA-SkillsNetwork-Channel-SkillsNetworkCoursesIBMDA0151ENSkillsNetwork926-2022-01-01) for more information about regex and matching to strings in R.\n",
    "\n",
    "Remember that you can use `tidyverse`'s  `mutate()` to update columns.\n",
    "\n",
    "You can check your work by checking if unique values of `HOURLYPrecip` still contain any `T` or `s`. Store the modified dataframe as a new variable.\n"
   ]
  },
  {
   "cell_type": "code",
   "execution_count": 20,
   "metadata": {},
   "outputs": [
    {
     "data": {
      "text/html": [
       "<style>\n",
       ".list-inline {list-style: none; margin:0; padding: 0}\n",
       ".list-inline>li {display: inline-block}\n",
       ".list-inline>li:not(:last-child)::after {content: \"\\00b7\"; padding: 0 .5ex}\n",
       "</style>\n",
       "<ol class=list-inline><li>0</li><li>&lt;NA&gt;</li><li>0.06</li><li>0.03</li><li>0.02</li><li>0.08</li><li>0.01</li><li>0.07</li><li>0.16</li><li>0.09</li><li>0.22</li><li>0.24</li><li>0.18</li><li>0.05</li><li>0.04</li><li>0.11</li><li>0.14</li><li>0.25</li><li>0.1</li><li>0.58</li><li>0.12</li><li>0.13</li><li>0.46</li><li>1.07</li><li>1.19</li><li>0.34</li><li>0.2</li><li>0.36</li><li>0.42</li><li>0.17</li><li>0.27</li><li>0.35</li><li>0.31</li><li>0.33</li><li>0.23</li><li>0.26</li><li>0.28</li><li>0.75</li><li>0.19</li><li>0.54</li><li>0.59</li><li>0.21</li></ol>\n"
      ],
      "text/latex": [
       "\\begin{enumerate*}\n",
       "\\item 0\n",
       "\\item <NA>\n",
       "\\item 0.06\n",
       "\\item 0.03\n",
       "\\item 0.02\n",
       "\\item 0.08\n",
       "\\item 0.01\n",
       "\\item 0.07\n",
       "\\item 0.16\n",
       "\\item 0.09\n",
       "\\item 0.22\n",
       "\\item 0.24\n",
       "\\item 0.18\n",
       "\\item 0.05\n",
       "\\item 0.04\n",
       "\\item 0.11\n",
       "\\item 0.14\n",
       "\\item 0.25\n",
       "\\item 0.1\n",
       "\\item 0.58\n",
       "\\item 0.12\n",
       "\\item 0.13\n",
       "\\item 0.46\n",
       "\\item 1.07\n",
       "\\item 1.19\n",
       "\\item 0.34\n",
       "\\item 0.2\n",
       "\\item 0.36\n",
       "\\item 0.42\n",
       "\\item 0.17\n",
       "\\item 0.27\n",
       "\\item 0.35\n",
       "\\item 0.31\n",
       "\\item 0.33\n",
       "\\item 0.23\n",
       "\\item 0.26\n",
       "\\item 0.28\n",
       "\\item 0.75\n",
       "\\item 0.19\n",
       "\\item 0.54\n",
       "\\item 0.59\n",
       "\\item 0.21\n",
       "\\end{enumerate*}\n"
      ],
      "text/markdown": [
       "1. 0\n",
       "2. &lt;NA&gt;\n",
       "3. 0.06\n",
       "4. 0.03\n",
       "5. 0.02\n",
       "6. 0.08\n",
       "7. 0.01\n",
       "8. 0.07\n",
       "9. 0.16\n",
       "10. 0.09\n",
       "11. 0.22\n",
       "12. 0.24\n",
       "13. 0.18\n",
       "14. 0.05\n",
       "15. 0.04\n",
       "16. 0.11\n",
       "17. 0.14\n",
       "18. 0.25\n",
       "19. 0.1\n",
       "20. 0.58\n",
       "21. 0.12\n",
       "22. 0.13\n",
       "23. 0.46\n",
       "24. 1.07\n",
       "25. 1.19\n",
       "26. 0.34\n",
       "27. 0.2\n",
       "28. 0.36\n",
       "29. 0.42\n",
       "30. 0.17\n",
       "31. 0.27\n",
       "32. 0.35\n",
       "33. 0.31\n",
       "34. 0.33\n",
       "35. 0.23\n",
       "36. 0.26\n",
       "37. 0.28\n",
       "38. 0.75\n",
       "39. 0.19\n",
       "40. 0.54\n",
       "41. 0.59\n",
       "42. 0.21\n",
       "\n",
       "\n"
      ],
      "text/plain": [
       " [1] 0.00   NA 0.06 0.03 0.02 0.08 0.01 0.07 0.16 0.09 0.22 0.24 0.18 0.05 0.04\n",
       "[16] 0.11 0.14 0.25 0.10 0.58 0.12 0.13 0.46 1.07 1.19 0.34 0.20 0.36 0.42 0.17\n",
       "[31] 0.27 0.35 0.31 0.33 0.23 0.26 0.28 0.75 0.19 0.54 0.59 0.21"
      ]
     },
     "metadata": {},
     "output_type": "display_data"
    }
   ],
   "source": [
    "unique(wea_data$HOURLYPrecip)"
   ]
  },
  {
   "cell_type": "markdown",
   "metadata": {},
   "source": [
    "<a id=\"cell5\"></a>\n",
    "## 5. Convert Columns to Numerical Types\n",
    "Now that you have removed the characters in the `HOURLYPrecip` column, you can safely covert the column to a numeric type.\n",
    "\n",
    "First, check the types of the columns. You will notice that all are `dbl` (double or numeric) except for `HOURLYPrecip`, which is `chr` (character or string). Use the `glimpse` function from Tidyverse.\n"
   ]
  },
  {
   "cell_type": "code",
   "execution_count": 21,
   "metadata": {},
   "outputs": [
    {
     "name": "stdout",
     "output_type": "stream",
     "text": [
      "Rows: 5,727\n",
      "Columns: 9\n",
      "$ DATE                   <dbl> 2015, 2016, 2013, 2011, 2015, 2013, 2014, 2014…\n",
      "$ HOURLYDewPointTempF    <dbl> 60, 34, 33, 18, 27, 35, 4, 14, 51, 71, 76, 19,…\n",
      "$ HOURLYRelativeHumidity <dbl> 46, 48, 89, 48, 61, 79, 51, 65, 90, 94, 79, 37…\n",
      "$ HOURLYDRYBULBTEMPF     <dbl> 83, 53, 36, 36, 39, 41, 19, 24, 54, 73, 83, 44…\n",
      "$ HOURLYWETBULBTEMPF     <dbl> 68, 44, 35, 30, 34, 38, 15, 21, 52, 72, 78, 35…\n",
      "$ HOURLYPrecip           <dbl> 0.00, 0.00, 0.00, 0.00, NA, 0.00, 0.00, 0.00, …\n",
      "$ HOURLYWindSpeed        <dbl> 13, 6, 13, 14, 11, 6, 0, 11, 11, 5, 21, 7, 17,…\n",
      "$ HOURLYSeaLevelPressure <dbl> 30.01, 30.05, 30.14, 29.82, NA, 29.94, 30.42, …\n",
      "$ HOURLYStationPressure  <dbl> 29.99, 30.03, 30.12, 29.80, 30.50, 29.92, 30.4…\n"
     ]
    }
   ],
   "source": [
    "glimpse(weather_data)"
   ]
  },
  {
   "cell_type": "markdown",
   "metadata": {},
   "source": [
    "Convert `HOURLYPrecip` to the `numeric` type and store the cleaned dataframe as a new variable.\n"
   ]
  },
  {
   "cell_type": "code",
   "execution_count": 22,
   "metadata": {},
   "outputs": [
    {
     "data": {
      "text/html": [
       "<style>\n",
       ".list-inline {list-style: none; margin:0; padding: 0}\n",
       ".list-inline>li {display: inline-block}\n",
       ".list-inline>li:not(:last-child)::after {content: \"\\00b7\"; padding: 0 .5ex}\n",
       "</style>\n",
       "<ol class=list-inline><li>0</li><li>0</li><li>0</li><li>0</li><li>&lt;NA&gt;</li><li>0</li><li>0</li><li>0</li><li>0.06</li><li>&lt;NA&gt;</li><li>&lt;NA&gt;</li><li>0</li><li>0</li><li>0</li><li>0</li><li>0</li><li>0</li><li>&lt;NA&gt;</li><li>0.03</li><li>&lt;NA&gt;</li><li>0.03</li><li>&lt;NA&gt;</li><li>0</li><li>0</li><li>0.02</li><li>&lt;NA&gt;</li><li>0</li><li>&lt;NA&gt;</li><li>&lt;NA&gt;</li><li>0</li><li>0</li><li>&lt;NA&gt;</li><li>0</li><li>0</li><li>0</li><li>&lt;NA&gt;</li><li>0</li><li>0</li><li>0.08</li><li>&lt;NA&gt;</li><li>&lt;NA&gt;</li><li>&lt;NA&gt;</li><li>&lt;NA&gt;</li><li>0</li><li>0</li><li>0</li><li>0.01</li><li>0</li><li>&lt;NA&gt;</li><li>&lt;NA&gt;</li><li>0</li><li>0</li><li>&lt;NA&gt;</li><li>0</li><li>0</li><li>&lt;NA&gt;</li><li>0</li><li>0</li><li>0</li><li>0</li><li>0</li><li>&lt;NA&gt;</li><li>&lt;NA&gt;</li><li>&lt;NA&gt;</li><li>0</li><li>&lt;NA&gt;</li><li>0</li><li>0</li><li>&lt;NA&gt;</li><li>0</li><li>0</li><li>0</li><li>0.07</li><li>&lt;NA&gt;</li><li>0</li><li>&lt;NA&gt;</li><li>0</li><li>0</li><li>&lt;NA&gt;</li><li>&lt;NA&gt;</li><li>0</li><li>&lt;NA&gt;</li><li>&lt;NA&gt;</li><li>0</li><li>0</li><li>&lt;NA&gt;</li><li>0</li><li>&lt;NA&gt;</li><li>&lt;NA&gt;</li><li>0</li><li>&lt;NA&gt;</li><li>&lt;NA&gt;</li><li>0</li><li>0</li><li>&lt;NA&gt;</li><li>0</li><li>0.16</li><li>0</li><li>0</li><li>0</li><li>0</li><li>0.08</li><li>0</li><li>0</li><li>0</li><li>&lt;NA&gt;</li><li>0</li><li>0</li><li>&lt;NA&gt;</li><li>&lt;NA&gt;</li><li>&lt;NA&gt;</li><li>&lt;NA&gt;</li><li>0</li><li>&lt;NA&gt;</li><li>&lt;NA&gt;</li><li>0</li><li>0</li><li>0</li><li>0.09</li><li>0.06</li><li>&lt;NA&gt;</li><li>0</li><li>0</li><li>&lt;NA&gt;</li><li>&lt;NA&gt;</li><li>0</li><li>0</li><li>&lt;NA&gt;</li><li>&lt;NA&gt;</li><li>0</li><li>0</li><li>0</li><li>0</li><li>0</li><li>&lt;NA&gt;</li><li>0</li><li>0</li><li>0</li><li>0</li><li>0</li><li>&lt;NA&gt;</li><li>0</li><li>&lt;NA&gt;</li><li>0</li><li>&lt;NA&gt;</li><li>0.22</li><li>0</li><li>&lt;NA&gt;</li><li>0</li><li>&lt;NA&gt;</li><li>0.02</li><li>&lt;NA&gt;</li><li>&lt;NA&gt;</li><li>0</li><li>0</li><li>0</li><li>&lt;NA&gt;</li><li>0</li><li>&lt;NA&gt;</li><li>&lt;NA&gt;</li><li>&lt;NA&gt;</li><li>&lt;NA&gt;</li><li>&lt;NA&gt;</li><li>&lt;NA&gt;</li><li>&lt;NA&gt;</li><li>0.02</li><li>0</li><li>0</li><li>0</li><li>&lt;NA&gt;</li><li>&lt;NA&gt;</li><li>0</li><li>0</li><li>&lt;NA&gt;</li><li>0</li><li>0</li><li>0</li><li>&lt;NA&gt;</li><li>0.01</li><li>0</li><li>0</li><li>&lt;NA&gt;</li><li>&lt;NA&gt;</li><li>0</li><li>&lt;NA&gt;</li><li>&lt;NA&gt;</li><li>0</li><li>&lt;NA&gt;</li><li>0</li><li>0</li><li>0</li><li>0</li><li>0.24</li><li>&lt;NA&gt;</li><li>0</li><li>0.03</li><li>&lt;NA&gt;</li><li>0</li><li>&lt;NA&gt;</li><li>0</li><li>⋯</li><li>0</li><li>0</li><li>0</li><li>&lt;NA&gt;</li><li>0</li><li>0</li><li>&lt;NA&gt;</li><li>0</li><li>&lt;NA&gt;</li><li>&lt;NA&gt;</li><li>0</li><li>&lt;NA&gt;</li><li>0</li><li>0</li><li>&lt;NA&gt;</li><li>0</li><li>0</li><li>0</li><li>0</li><li>&lt;NA&gt;</li><li>0</li><li>0</li><li>&lt;NA&gt;</li><li>0</li><li>0</li><li>0</li><li>&lt;NA&gt;</li><li>0</li><li>0</li><li>0</li><li>0</li><li>0.21</li><li>0</li><li>&lt;NA&gt;</li><li>0</li><li>0</li><li>0.02</li><li>0</li><li>&lt;NA&gt;</li><li>0</li><li>0</li><li>0</li><li>&lt;NA&gt;</li><li>0</li><li>0</li><li>0</li><li>0</li><li>0</li><li>&lt;NA&gt;</li><li>0.01</li><li>0</li><li>0</li><li>0</li><li>0.01</li><li>0.1</li><li>0</li><li>0</li><li>&lt;NA&gt;</li><li>&lt;NA&gt;</li><li>0</li><li>0</li><li>0.02</li><li>0.01</li><li>&lt;NA&gt;</li><li>0</li><li>&lt;NA&gt;</li><li>&lt;NA&gt;</li><li>0</li><li>&lt;NA&gt;</li><li>0</li><li>0</li><li>0</li><li>0</li><li>&lt;NA&gt;</li><li>0</li><li>0</li><li>0</li><li>0</li><li>0</li><li>0</li><li>0</li><li>0</li><li>0</li><li>0</li><li>0</li><li>0</li><li>&lt;NA&gt;</li><li>0</li><li>0</li><li>&lt;NA&gt;</li><li>&lt;NA&gt;</li><li>0</li><li>0</li><li>&lt;NA&gt;</li><li>&lt;NA&gt;</li><li>&lt;NA&gt;</li><li>&lt;NA&gt;</li><li>0</li><li>0.03</li><li>&lt;NA&gt;</li><li>0.08</li><li>&lt;NA&gt;</li><li>0</li><li>0</li><li>&lt;NA&gt;</li><li>0</li><li>0</li><li>0</li><li>0</li><li>0</li><li>0</li><li>&lt;NA&gt;</li><li>&lt;NA&gt;</li><li>&lt;NA&gt;</li><li>0</li><li>0</li><li>0</li><li>0</li><li>0</li><li>&lt;NA&gt;</li><li>0</li><li>0</li><li>0</li><li>&lt;NA&gt;</li><li>0</li><li>&lt;NA&gt;</li><li>0</li><li>&lt;NA&gt;</li><li>0</li><li>0.04</li><li>0</li><li>&lt;NA&gt;</li><li>0</li><li>&lt;NA&gt;</li><li>&lt;NA&gt;</li><li>0</li><li>&lt;NA&gt;</li><li>0</li><li>0.01</li><li>0</li><li>&lt;NA&gt;</li><li>0</li><li>&lt;NA&gt;</li><li>&lt;NA&gt;</li><li>0</li><li>&lt;NA&gt;</li><li>&lt;NA&gt;</li><li>&lt;NA&gt;</li><li>0</li><li>0</li><li>0.16</li><li>0</li><li>0</li><li>&lt;NA&gt;</li><li>&lt;NA&gt;</li><li>&lt;NA&gt;</li><li>0</li><li>&lt;NA&gt;</li><li>0</li><li>&lt;NA&gt;</li><li>0</li><li>0</li><li>0</li><li>0</li><li>0</li><li>&lt;NA&gt;</li><li>&lt;NA&gt;</li><li>0</li><li>&lt;NA&gt;</li><li>0</li><li>&lt;NA&gt;</li><li>0</li><li>&lt;NA&gt;</li><li>0</li><li>0</li><li>0</li><li>0</li><li>0</li><li>0</li><li>0.02</li><li>0</li><li>0</li><li>&lt;NA&gt;</li><li>0</li><li>0</li><li>0</li><li>0</li><li>0</li><li>&lt;NA&gt;</li><li>0</li><li>0.03</li><li>0</li><li>0</li><li>0.01</li><li>0</li><li>0</li><li>&lt;NA&gt;</li><li>0</li><li>0</li><li>0</li></ol>\n"
      ],
      "text/latex": [
       "\\begin{enumerate*}\n",
       "\\item 0\n",
       "\\item 0\n",
       "\\item 0\n",
       "\\item 0\n",
       "\\item <NA>\n",
       "\\item 0\n",
       "\\item 0\n",
       "\\item 0\n",
       "\\item 0.06\n",
       "\\item <NA>\n",
       "\\item <NA>\n",
       "\\item 0\n",
       "\\item 0\n",
       "\\item 0\n",
       "\\item 0\n",
       "\\item 0\n",
       "\\item 0\n",
       "\\item <NA>\n",
       "\\item 0.03\n",
       "\\item <NA>\n",
       "\\item 0.03\n",
       "\\item <NA>\n",
       "\\item 0\n",
       "\\item 0\n",
       "\\item 0.02\n",
       "\\item <NA>\n",
       "\\item 0\n",
       "\\item <NA>\n",
       "\\item <NA>\n",
       "\\item 0\n",
       "\\item 0\n",
       "\\item <NA>\n",
       "\\item 0\n",
       "\\item 0\n",
       "\\item 0\n",
       "\\item <NA>\n",
       "\\item 0\n",
       "\\item 0\n",
       "\\item 0.08\n",
       "\\item <NA>\n",
       "\\item <NA>\n",
       "\\item <NA>\n",
       "\\item <NA>\n",
       "\\item 0\n",
       "\\item 0\n",
       "\\item 0\n",
       "\\item 0.01\n",
       "\\item 0\n",
       "\\item <NA>\n",
       "\\item <NA>\n",
       "\\item 0\n",
       "\\item 0\n",
       "\\item <NA>\n",
       "\\item 0\n",
       "\\item 0\n",
       "\\item <NA>\n",
       "\\item 0\n",
       "\\item 0\n",
       "\\item 0\n",
       "\\item 0\n",
       "\\item 0\n",
       "\\item <NA>\n",
       "\\item <NA>\n",
       "\\item <NA>\n",
       "\\item 0\n",
       "\\item <NA>\n",
       "\\item 0\n",
       "\\item 0\n",
       "\\item <NA>\n",
       "\\item 0\n",
       "\\item 0\n",
       "\\item 0\n",
       "\\item 0.07\n",
       "\\item <NA>\n",
       "\\item 0\n",
       "\\item <NA>\n",
       "\\item 0\n",
       "\\item 0\n",
       "\\item <NA>\n",
       "\\item <NA>\n",
       "\\item 0\n",
       "\\item <NA>\n",
       "\\item <NA>\n",
       "\\item 0\n",
       "\\item 0\n",
       "\\item <NA>\n",
       "\\item 0\n",
       "\\item <NA>\n",
       "\\item <NA>\n",
       "\\item 0\n",
       "\\item <NA>\n",
       "\\item <NA>\n",
       "\\item 0\n",
       "\\item 0\n",
       "\\item <NA>\n",
       "\\item 0\n",
       "\\item 0.16\n",
       "\\item 0\n",
       "\\item 0\n",
       "\\item 0\n",
       "\\item 0\n",
       "\\item 0.08\n",
       "\\item 0\n",
       "\\item 0\n",
       "\\item 0\n",
       "\\item <NA>\n",
       "\\item 0\n",
       "\\item 0\n",
       "\\item <NA>\n",
       "\\item <NA>\n",
       "\\item <NA>\n",
       "\\item <NA>\n",
       "\\item 0\n",
       "\\item <NA>\n",
       "\\item <NA>\n",
       "\\item 0\n",
       "\\item 0\n",
       "\\item 0\n",
       "\\item 0.09\n",
       "\\item 0.06\n",
       "\\item <NA>\n",
       "\\item 0\n",
       "\\item 0\n",
       "\\item <NA>\n",
       "\\item <NA>\n",
       "\\item 0\n",
       "\\item 0\n",
       "\\item <NA>\n",
       "\\item <NA>\n",
       "\\item 0\n",
       "\\item 0\n",
       "\\item 0\n",
       "\\item 0\n",
       "\\item 0\n",
       "\\item <NA>\n",
       "\\item 0\n",
       "\\item 0\n",
       "\\item 0\n",
       "\\item 0\n",
       "\\item 0\n",
       "\\item <NA>\n",
       "\\item 0\n",
       "\\item <NA>\n",
       "\\item 0\n",
       "\\item <NA>\n",
       "\\item 0.22\n",
       "\\item 0\n",
       "\\item <NA>\n",
       "\\item 0\n",
       "\\item <NA>\n",
       "\\item 0.02\n",
       "\\item <NA>\n",
       "\\item <NA>\n",
       "\\item 0\n",
       "\\item 0\n",
       "\\item 0\n",
       "\\item <NA>\n",
       "\\item 0\n",
       "\\item <NA>\n",
       "\\item <NA>\n",
       "\\item <NA>\n",
       "\\item <NA>\n",
       "\\item <NA>\n",
       "\\item <NA>\n",
       "\\item <NA>\n",
       "\\item 0.02\n",
       "\\item 0\n",
       "\\item 0\n",
       "\\item 0\n",
       "\\item <NA>\n",
       "\\item <NA>\n",
       "\\item 0\n",
       "\\item 0\n",
       "\\item <NA>\n",
       "\\item 0\n",
       "\\item 0\n",
       "\\item 0\n",
       "\\item <NA>\n",
       "\\item 0.01\n",
       "\\item 0\n",
       "\\item 0\n",
       "\\item <NA>\n",
       "\\item <NA>\n",
       "\\item 0\n",
       "\\item <NA>\n",
       "\\item <NA>\n",
       "\\item 0\n",
       "\\item <NA>\n",
       "\\item 0\n",
       "\\item 0\n",
       "\\item 0\n",
       "\\item 0\n",
       "\\item 0.24\n",
       "\\item <NA>\n",
       "\\item 0\n",
       "\\item 0.03\n",
       "\\item <NA>\n",
       "\\item 0\n",
       "\\item <NA>\n",
       "\\item 0\n",
       "\\item ⋯\n",
       "\\item 0\n",
       "\\item 0\n",
       "\\item 0\n",
       "\\item <NA>\n",
       "\\item 0\n",
       "\\item 0\n",
       "\\item <NA>\n",
       "\\item 0\n",
       "\\item <NA>\n",
       "\\item <NA>\n",
       "\\item 0\n",
       "\\item <NA>\n",
       "\\item 0\n",
       "\\item 0\n",
       "\\item <NA>\n",
       "\\item 0\n",
       "\\item 0\n",
       "\\item 0\n",
       "\\item 0\n",
       "\\item <NA>\n",
       "\\item 0\n",
       "\\item 0\n",
       "\\item <NA>\n",
       "\\item 0\n",
       "\\item 0\n",
       "\\item 0\n",
       "\\item <NA>\n",
       "\\item 0\n",
       "\\item 0\n",
       "\\item 0\n",
       "\\item 0\n",
       "\\item 0.21\n",
       "\\item 0\n",
       "\\item <NA>\n",
       "\\item 0\n",
       "\\item 0\n",
       "\\item 0.02\n",
       "\\item 0\n",
       "\\item <NA>\n",
       "\\item 0\n",
       "\\item 0\n",
       "\\item 0\n",
       "\\item <NA>\n",
       "\\item 0\n",
       "\\item 0\n",
       "\\item 0\n",
       "\\item 0\n",
       "\\item 0\n",
       "\\item <NA>\n",
       "\\item 0.01\n",
       "\\item 0\n",
       "\\item 0\n",
       "\\item 0\n",
       "\\item 0.01\n",
       "\\item 0.1\n",
       "\\item 0\n",
       "\\item 0\n",
       "\\item <NA>\n",
       "\\item <NA>\n",
       "\\item 0\n",
       "\\item 0\n",
       "\\item 0.02\n",
       "\\item 0.01\n",
       "\\item <NA>\n",
       "\\item 0\n",
       "\\item <NA>\n",
       "\\item <NA>\n",
       "\\item 0\n",
       "\\item <NA>\n",
       "\\item 0\n",
       "\\item 0\n",
       "\\item 0\n",
       "\\item 0\n",
       "\\item <NA>\n",
       "\\item 0\n",
       "\\item 0\n",
       "\\item 0\n",
       "\\item 0\n",
       "\\item 0\n",
       "\\item 0\n",
       "\\item 0\n",
       "\\item 0\n",
       "\\item 0\n",
       "\\item 0\n",
       "\\item 0\n",
       "\\item 0\n",
       "\\item <NA>\n",
       "\\item 0\n",
       "\\item 0\n",
       "\\item <NA>\n",
       "\\item <NA>\n",
       "\\item 0\n",
       "\\item 0\n",
       "\\item <NA>\n",
       "\\item <NA>\n",
       "\\item <NA>\n",
       "\\item <NA>\n",
       "\\item 0\n",
       "\\item 0.03\n",
       "\\item <NA>\n",
       "\\item 0.08\n",
       "\\item <NA>\n",
       "\\item 0\n",
       "\\item 0\n",
       "\\item <NA>\n",
       "\\item 0\n",
       "\\item 0\n",
       "\\item 0\n",
       "\\item 0\n",
       "\\item 0\n",
       "\\item 0\n",
       "\\item <NA>\n",
       "\\item <NA>\n",
       "\\item <NA>\n",
       "\\item 0\n",
       "\\item 0\n",
       "\\item 0\n",
       "\\item 0\n",
       "\\item 0\n",
       "\\item <NA>\n",
       "\\item 0\n",
       "\\item 0\n",
       "\\item 0\n",
       "\\item <NA>\n",
       "\\item 0\n",
       "\\item <NA>\n",
       "\\item 0\n",
       "\\item <NA>\n",
       "\\item 0\n",
       "\\item 0.04\n",
       "\\item 0\n",
       "\\item <NA>\n",
       "\\item 0\n",
       "\\item <NA>\n",
       "\\item <NA>\n",
       "\\item 0\n",
       "\\item <NA>\n",
       "\\item 0\n",
       "\\item 0.01\n",
       "\\item 0\n",
       "\\item <NA>\n",
       "\\item 0\n",
       "\\item <NA>\n",
       "\\item <NA>\n",
       "\\item 0\n",
       "\\item <NA>\n",
       "\\item <NA>\n",
       "\\item <NA>\n",
       "\\item 0\n",
       "\\item 0\n",
       "\\item 0.16\n",
       "\\item 0\n",
       "\\item 0\n",
       "\\item <NA>\n",
       "\\item <NA>\n",
       "\\item <NA>\n",
       "\\item 0\n",
       "\\item <NA>\n",
       "\\item 0\n",
       "\\item <NA>\n",
       "\\item 0\n",
       "\\item 0\n",
       "\\item 0\n",
       "\\item 0\n",
       "\\item 0\n",
       "\\item <NA>\n",
       "\\item <NA>\n",
       "\\item 0\n",
       "\\item <NA>\n",
       "\\item 0\n",
       "\\item <NA>\n",
       "\\item 0\n",
       "\\item <NA>\n",
       "\\item 0\n",
       "\\item 0\n",
       "\\item 0\n",
       "\\item 0\n",
       "\\item 0\n",
       "\\item 0\n",
       "\\item 0.02\n",
       "\\item 0\n",
       "\\item 0\n",
       "\\item <NA>\n",
       "\\item 0\n",
       "\\item 0\n",
       "\\item 0\n",
       "\\item 0\n",
       "\\item 0\n",
       "\\item <NA>\n",
       "\\item 0\n",
       "\\item 0.03\n",
       "\\item 0\n",
       "\\item 0\n",
       "\\item 0.01\n",
       "\\item 0\n",
       "\\item 0\n",
       "\\item <NA>\n",
       "\\item 0\n",
       "\\item 0\n",
       "\\item 0\n",
       "\\end{enumerate*}\n"
      ],
      "text/markdown": [
       "1. 0\n",
       "2. 0\n",
       "3. 0\n",
       "4. 0\n",
       "5. &lt;NA&gt;\n",
       "6. 0\n",
       "7. 0\n",
       "8. 0\n",
       "9. 0.06\n",
       "10. &lt;NA&gt;\n",
       "11. &lt;NA&gt;\n",
       "12. 0\n",
       "13. 0\n",
       "14. 0\n",
       "15. 0\n",
       "16. 0\n",
       "17. 0\n",
       "18. &lt;NA&gt;\n",
       "19. 0.03\n",
       "20. &lt;NA&gt;\n",
       "21. 0.03\n",
       "22. &lt;NA&gt;\n",
       "23. 0\n",
       "24. 0\n",
       "25. 0.02\n",
       "26. &lt;NA&gt;\n",
       "27. 0\n",
       "28. &lt;NA&gt;\n",
       "29. &lt;NA&gt;\n",
       "30. 0\n",
       "31. 0\n",
       "32. &lt;NA&gt;\n",
       "33. 0\n",
       "34. 0\n",
       "35. 0\n",
       "36. &lt;NA&gt;\n",
       "37. 0\n",
       "38. 0\n",
       "39. 0.08\n",
       "40. &lt;NA&gt;\n",
       "41. &lt;NA&gt;\n",
       "42. &lt;NA&gt;\n",
       "43. &lt;NA&gt;\n",
       "44. 0\n",
       "45. 0\n",
       "46. 0\n",
       "47. 0.01\n",
       "48. 0\n",
       "49. &lt;NA&gt;\n",
       "50. &lt;NA&gt;\n",
       "51. 0\n",
       "52. 0\n",
       "53. &lt;NA&gt;\n",
       "54. 0\n",
       "55. 0\n",
       "56. &lt;NA&gt;\n",
       "57. 0\n",
       "58. 0\n",
       "59. 0\n",
       "60. 0\n",
       "61. 0\n",
       "62. &lt;NA&gt;\n",
       "63. &lt;NA&gt;\n",
       "64. &lt;NA&gt;\n",
       "65. 0\n",
       "66. &lt;NA&gt;\n",
       "67. 0\n",
       "68. 0\n",
       "69. &lt;NA&gt;\n",
       "70. 0\n",
       "71. 0\n",
       "72. 0\n",
       "73. 0.07\n",
       "74. &lt;NA&gt;\n",
       "75. 0\n",
       "76. &lt;NA&gt;\n",
       "77. 0\n",
       "78. 0\n",
       "79. &lt;NA&gt;\n",
       "80. &lt;NA&gt;\n",
       "81. 0\n",
       "82. &lt;NA&gt;\n",
       "83. &lt;NA&gt;\n",
       "84. 0\n",
       "85. 0\n",
       "86. &lt;NA&gt;\n",
       "87. 0\n",
       "88. &lt;NA&gt;\n",
       "89. &lt;NA&gt;\n",
       "90. 0\n",
       "91. &lt;NA&gt;\n",
       "92. &lt;NA&gt;\n",
       "93. 0\n",
       "94. 0\n",
       "95. &lt;NA&gt;\n",
       "96. 0\n",
       "97. 0.16\n",
       "98. 0\n",
       "99. 0\n",
       "100. 0\n",
       "101. 0\n",
       "102. 0.08\n",
       "103. 0\n",
       "104. 0\n",
       "105. 0\n",
       "106. &lt;NA&gt;\n",
       "107. 0\n",
       "108. 0\n",
       "109. &lt;NA&gt;\n",
       "110. &lt;NA&gt;\n",
       "111. &lt;NA&gt;\n",
       "112. &lt;NA&gt;\n",
       "113. 0\n",
       "114. &lt;NA&gt;\n",
       "115. &lt;NA&gt;\n",
       "116. 0\n",
       "117. 0\n",
       "118. 0\n",
       "119. 0.09\n",
       "120. 0.06\n",
       "121. &lt;NA&gt;\n",
       "122. 0\n",
       "123. 0\n",
       "124. &lt;NA&gt;\n",
       "125. &lt;NA&gt;\n",
       "126. 0\n",
       "127. 0\n",
       "128. &lt;NA&gt;\n",
       "129. &lt;NA&gt;\n",
       "130. 0\n",
       "131. 0\n",
       "132. 0\n",
       "133. 0\n",
       "134. 0\n",
       "135. &lt;NA&gt;\n",
       "136. 0\n",
       "137. 0\n",
       "138. 0\n",
       "139. 0\n",
       "140. 0\n",
       "141. &lt;NA&gt;\n",
       "142. 0\n",
       "143. &lt;NA&gt;\n",
       "144. 0\n",
       "145. &lt;NA&gt;\n",
       "146. 0.22\n",
       "147. 0\n",
       "148. &lt;NA&gt;\n",
       "149. 0\n",
       "150. &lt;NA&gt;\n",
       "151. 0.02\n",
       "152. &lt;NA&gt;\n",
       "153. &lt;NA&gt;\n",
       "154. 0\n",
       "155. 0\n",
       "156. 0\n",
       "157. &lt;NA&gt;\n",
       "158. 0\n",
       "159. &lt;NA&gt;\n",
       "160. &lt;NA&gt;\n",
       "161. &lt;NA&gt;\n",
       "162. &lt;NA&gt;\n",
       "163. &lt;NA&gt;\n",
       "164. &lt;NA&gt;\n",
       "165. &lt;NA&gt;\n",
       "166. 0.02\n",
       "167. 0\n",
       "168. 0\n",
       "169. 0\n",
       "170. &lt;NA&gt;\n",
       "171. &lt;NA&gt;\n",
       "172. 0\n",
       "173. 0\n",
       "174. &lt;NA&gt;\n",
       "175. 0\n",
       "176. 0\n",
       "177. 0\n",
       "178. &lt;NA&gt;\n",
       "179. 0.01\n",
       "180. 0\n",
       "181. 0\n",
       "182. &lt;NA&gt;\n",
       "183. &lt;NA&gt;\n",
       "184. 0\n",
       "185. &lt;NA&gt;\n",
       "186. &lt;NA&gt;\n",
       "187. 0\n",
       "188. &lt;NA&gt;\n",
       "189. 0\n",
       "190. 0\n",
       "191. 0\n",
       "192. 0\n",
       "193. 0.24\n",
       "194. &lt;NA&gt;\n",
       "195. 0\n",
       "196. 0.03\n",
       "197. &lt;NA&gt;\n",
       "198. 0\n",
       "199. &lt;NA&gt;\n",
       "200. 0\n",
       "201. ⋯\n",
       "202. 0\n",
       "203. 0\n",
       "204. 0\n",
       "205. &lt;NA&gt;\n",
       "206. 0\n",
       "207. 0\n",
       "208. &lt;NA&gt;\n",
       "209. 0\n",
       "210. &lt;NA&gt;\n",
       "211. &lt;NA&gt;\n",
       "212. 0\n",
       "213. &lt;NA&gt;\n",
       "214. 0\n",
       "215. 0\n",
       "216. &lt;NA&gt;\n",
       "217. 0\n",
       "218. 0\n",
       "219. 0\n",
       "220. 0\n",
       "221. &lt;NA&gt;\n",
       "222. 0\n",
       "223. 0\n",
       "224. &lt;NA&gt;\n",
       "225. 0\n",
       "226. 0\n",
       "227. 0\n",
       "228. &lt;NA&gt;\n",
       "229. 0\n",
       "230. 0\n",
       "231. 0\n",
       "232. 0\n",
       "233. 0.21\n",
       "234. 0\n",
       "235. &lt;NA&gt;\n",
       "236. 0\n",
       "237. 0\n",
       "238. 0.02\n",
       "239. 0\n",
       "240. &lt;NA&gt;\n",
       "241. 0\n",
       "242. 0\n",
       "243. 0\n",
       "244. &lt;NA&gt;\n",
       "245. 0\n",
       "246. 0\n",
       "247. 0\n",
       "248. 0\n",
       "249. 0\n",
       "250. &lt;NA&gt;\n",
       "251. 0.01\n",
       "252. 0\n",
       "253. 0\n",
       "254. 0\n",
       "255. 0.01\n",
       "256. 0.1\n",
       "257. 0\n",
       "258. 0\n",
       "259. &lt;NA&gt;\n",
       "260. &lt;NA&gt;\n",
       "261. 0\n",
       "262. 0\n",
       "263. 0.02\n",
       "264. 0.01\n",
       "265. &lt;NA&gt;\n",
       "266. 0\n",
       "267. &lt;NA&gt;\n",
       "268. &lt;NA&gt;\n",
       "269. 0\n",
       "270. &lt;NA&gt;\n",
       "271. 0\n",
       "272. 0\n",
       "273. 0\n",
       "274. 0\n",
       "275. &lt;NA&gt;\n",
       "276. 0\n",
       "277. 0\n",
       "278. 0\n",
       "279. 0\n",
       "280. 0\n",
       "281. 0\n",
       "282. 0\n",
       "283. 0\n",
       "284. 0\n",
       "285. 0\n",
       "286. 0\n",
       "287. 0\n",
       "288. &lt;NA&gt;\n",
       "289. 0\n",
       "290. 0\n",
       "291. &lt;NA&gt;\n",
       "292. &lt;NA&gt;\n",
       "293. 0\n",
       "294. 0\n",
       "295. &lt;NA&gt;\n",
       "296. &lt;NA&gt;\n",
       "297. &lt;NA&gt;\n",
       "298. &lt;NA&gt;\n",
       "299. 0\n",
       "300. 0.03\n",
       "301. &lt;NA&gt;\n",
       "302. 0.08\n",
       "303. &lt;NA&gt;\n",
       "304. 0\n",
       "305. 0\n",
       "306. &lt;NA&gt;\n",
       "307. 0\n",
       "308. 0\n",
       "309. 0\n",
       "310. 0\n",
       "311. 0\n",
       "312. 0\n",
       "313. &lt;NA&gt;\n",
       "314. &lt;NA&gt;\n",
       "315. &lt;NA&gt;\n",
       "316. 0\n",
       "317. 0\n",
       "318. 0\n",
       "319. 0\n",
       "320. 0\n",
       "321. &lt;NA&gt;\n",
       "322. 0\n",
       "323. 0\n",
       "324. 0\n",
       "325. &lt;NA&gt;\n",
       "326. 0\n",
       "327. &lt;NA&gt;\n",
       "328. 0\n",
       "329. &lt;NA&gt;\n",
       "330. 0\n",
       "331. 0.04\n",
       "332. 0\n",
       "333. &lt;NA&gt;\n",
       "334. 0\n",
       "335. &lt;NA&gt;\n",
       "336. &lt;NA&gt;\n",
       "337. 0\n",
       "338. &lt;NA&gt;\n",
       "339. 0\n",
       "340. 0.01\n",
       "341. 0\n",
       "342. &lt;NA&gt;\n",
       "343. 0\n",
       "344. &lt;NA&gt;\n",
       "345. &lt;NA&gt;\n",
       "346. 0\n",
       "347. &lt;NA&gt;\n",
       "348. &lt;NA&gt;\n",
       "349. &lt;NA&gt;\n",
       "350. 0\n",
       "351. 0\n",
       "352. 0.16\n",
       "353. 0\n",
       "354. 0\n",
       "355. &lt;NA&gt;\n",
       "356. &lt;NA&gt;\n",
       "357. &lt;NA&gt;\n",
       "358. 0\n",
       "359. &lt;NA&gt;\n",
       "360. 0\n",
       "361. &lt;NA&gt;\n",
       "362. 0\n",
       "363. 0\n",
       "364. 0\n",
       "365. 0\n",
       "366. 0\n",
       "367. &lt;NA&gt;\n",
       "368. &lt;NA&gt;\n",
       "369. 0\n",
       "370. &lt;NA&gt;\n",
       "371. 0\n",
       "372. &lt;NA&gt;\n",
       "373. 0\n",
       "374. &lt;NA&gt;\n",
       "375. 0\n",
       "376. 0\n",
       "377. 0\n",
       "378. 0\n",
       "379. 0\n",
       "380. 0\n",
       "381. 0.02\n",
       "382. 0\n",
       "383. 0\n",
       "384. &lt;NA&gt;\n",
       "385. 0\n",
       "386. 0\n",
       "387. 0\n",
       "388. 0\n",
       "389. 0\n",
       "390. &lt;NA&gt;\n",
       "391. 0\n",
       "392. 0.03\n",
       "393. 0\n",
       "394. 0\n",
       "395. 0.01\n",
       "396. 0\n",
       "397. 0\n",
       "398. &lt;NA&gt;\n",
       "399. 0\n",
       "400. 0\n",
       "401. 0\n",
       "\n",
       "\n"
      ],
      "text/plain": [
       "   [1] 0.00 0.00 0.00 0.00   NA 0.00 0.00 0.00 0.06   NA   NA 0.00 0.00 0.00\n",
       "  [15] 0.00 0.00 0.00   NA 0.03   NA 0.03   NA 0.00 0.00 0.02   NA 0.00   NA\n",
       "  [29]   NA 0.00 0.00   NA 0.00 0.00 0.00   NA 0.00 0.00 0.08   NA   NA   NA\n",
       "  [43]   NA 0.00 0.00 0.00 0.01 0.00   NA   NA 0.00 0.00   NA 0.00 0.00   NA\n",
       "  [57] 0.00 0.00 0.00 0.00 0.00   NA   NA   NA 0.00   NA 0.00 0.00   NA 0.00\n",
       "  [71] 0.00 0.00 0.07   NA 0.00   NA 0.00 0.00   NA   NA 0.00   NA   NA 0.00\n",
       "  [85] 0.00   NA 0.00   NA   NA 0.00   NA   NA 0.00 0.00   NA 0.00 0.16 0.00\n",
       "  [99] 0.00 0.00 0.00 0.08 0.00 0.00 0.00   NA 0.00 0.00   NA   NA   NA   NA\n",
       " [113] 0.00   NA   NA 0.00 0.00 0.00 0.09 0.06   NA 0.00 0.00   NA   NA 0.00\n",
       " [127] 0.00   NA   NA 0.00 0.00 0.00 0.00 0.00   NA 0.00 0.00 0.00 0.00 0.00\n",
       " [141]   NA 0.00   NA 0.00   NA 0.22 0.00   NA 0.00   NA 0.02   NA   NA 0.00\n",
       " [155] 0.00 0.00   NA 0.00   NA   NA   NA   NA   NA   NA   NA 0.02 0.00 0.00\n",
       " [169] 0.00   NA   NA 0.00 0.00   NA 0.00 0.00 0.00   NA 0.01 0.00 0.00   NA\n",
       " [183]   NA 0.00   NA   NA 0.00   NA 0.00 0.00 0.00 0.00 0.24   NA 0.00 0.03\n",
       " [197]   NA 0.00   NA 0.00 0.00 0.00 0.00 0.00   NA 0.00   NA 0.00 0.00 0.00\n",
       " [211]   NA   NA 0.00   NA   NA 0.00 0.00 0.00   NA 0.00 0.00 0.00 0.00 0.00\n",
       " [225] 0.00   NA 0.00 0.00 0.00 0.03 0.00   NA   NA 0.00 0.00   NA 0.00   NA\n",
       " [239] 0.00   NA   NA   NA 0.00 0.00 0.00 0.00   NA 0.00 0.00   NA   NA   NA\n",
       " [253] 0.00 0.00 0.01   NA 0.00   NA 0.00 0.00 0.00   NA 0.00   NA   NA 0.00\n",
       " [267]   NA 0.00   NA 0.00 0.00 0.00   NA 0.00 0.00   NA   NA 0.00   NA   NA\n",
       " [281] 0.18 0.00 0.00 0.00   NA 0.00 0.00   NA 0.00 0.03 0.00   NA   NA   NA\n",
       " [295] 0.00 0.00   NA   NA 0.05 0.00 0.03 0.00 0.00 0.00 0.00 0.00 0.00   NA\n",
       " [309]   NA 0.00   NA 0.00   NA 0.00 0.00 0.00 0.00 0.00 0.00   NA   NA 0.00\n",
       " [323] 0.00   NA 0.00 0.00 0.00   NA 0.00   NA   NA   NA   NA 0.00 0.00 0.00\n",
       " [337] 0.06 0.00 0.00   NA   NA   NA 0.00 0.00 0.00 0.00   NA 0.00 0.00   NA\n",
       " [351]   NA   NA   NA 0.00   NA 0.00 0.00 0.01 0.00   NA 0.06 0.00   NA 0.00\n",
       " [365] 0.00 0.04 0.09 0.00 0.00 0.00 0.00 0.00 0.00   NA   NA   NA   NA 0.00\n",
       " [379]   NA 0.00 0.00   NA   NA 0.00   NA 0.00 0.00 0.00 0.00   NA   NA   NA\n",
       " [393] 0.00   NA 0.00 0.00 0.00 0.00 0.00 0.00   NA 0.00 0.00 0.07   NA   NA\n",
       " [407] 0.11 0.00 0.00   NA   NA 0.00 0.00 0.00 0.00 0.00   NA   NA 0.00   NA\n",
       " [421] 0.00 0.00 0.00 0.00 0.00 0.00 0.00 0.00   NA 0.00 0.00   NA 0.00 0.00\n",
       " [435]   NA 0.00   NA 0.00 0.00 0.00 0.00   NA 0.00   NA   NA 0.00 0.00 0.00\n",
       " [449]   NA   NA   NA 0.00 0.00   NA   NA 0.00 0.00   NA 0.00 0.00   NA   NA\n",
       " [463] 0.00 0.09   NA 0.00 0.00   NA   NA   NA 0.06   NA 0.00   NA 0.00   NA\n",
       " [477] 0.00 0.00 0.00 0.01   NA 0.00 0.01 0.00 0.00 0.00 0.00 0.00 0.00 0.00\n",
       " [491] 0.00   NA 0.00 0.00   NA   NA 0.00 0.00 0.00 0.00   NA 0.00 0.00 0.00\n",
       " [505]   NA   NA   NA   NA 0.01 0.00 0.00 0.00   NA 0.00 0.00 0.00   NA   NA\n",
       " [519] 0.00 0.00 0.00 0.01 0.00   NA 0.00   NA 0.00   NA 0.00 0.00 0.00 0.00\n",
       " [533] 0.00   NA 0.00   NA 0.00 0.00   NA   NA   NA 0.00 0.00   NA 0.00 0.00\n",
       " [547]   NA 0.00 0.00   NA 0.00 0.05 0.00   NA   NA 0.00   NA   NA 0.00   NA\n",
       " [561] 0.00 0.00 0.00 0.00 0.00 0.00   NA 0.00 0.00   NA 0.00 0.00 0.05 0.00\n",
       " [575]   NA 0.00 0.00 0.00   NA 0.00 0.00 0.00 0.00   NA   NA   NA   NA   NA\n",
       " [589]   NA 0.00   NA   NA   NA 0.00 0.00   NA 0.00 0.00 0.00 0.00   NA 0.00\n",
       " [603] 0.00   NA 0.01 0.00   NA 0.00   NA 0.07   NA 0.00 0.00   NA 0.00   NA\n",
       " [617]   NA 0.00 0.00 0.00   NA 0.00 0.00 0.00 0.00   NA   NA 0.05   NA 0.00\n",
       " [631]   NA   NA   NA   NA   NA   NA 0.00 0.00 0.00 0.00 0.04 0.06 0.00 0.00\n",
       " [645] 0.00 0.00   NA 0.00 0.00 0.00 0.00   NA 0.00 0.00 0.00 0.00 0.00 0.00\n",
       " [659] 0.00 0.00   NA 0.00 0.00 0.00 0.00 0.00 0.00   NA 0.00 0.00 0.00 0.00\n",
       " [673] 0.00 0.00   NA 0.00 0.00   NA 0.00   NA 0.00 0.00 0.00 0.00 0.00   NA\n",
       " [687]   NA 0.00   NA 0.00 0.00 0.00 0.00 0.14 0.00   NA 0.00 0.00 0.00 0.00\n",
       " [701]   NA 0.00 0.00   NA 0.00 0.00 0.00 0.00 0.25   NA 0.06   NA 0.00 0.00\n",
       " [715] 0.00 0.00   NA 0.00   NA 0.00 0.06 0.00 0.00 0.08 0.00 0.00   NA   NA\n",
       " [729] 0.00   NA   NA 0.06 0.00   NA 0.00 0.00 0.00 0.01 0.00 0.00   NA 0.00\n",
       " [743] 0.00   NA   NA   NA 0.00 0.00   NA 0.00 0.00   NA 0.00 0.00 0.01 0.00\n",
       " [757]   NA 0.00 0.00 0.00 0.00 0.00 0.00   NA 0.00 0.00 0.00 0.00 0.00 0.00\n",
       " [771]   NA   NA   NA 0.00 0.00 0.00   NA 0.00 0.00   NA 0.00   NA 0.00 0.00\n",
       " [785] 0.06 0.00   NA   NA   NA   NA 0.00 0.00 0.10 0.00   NA 0.00 0.00   NA\n",
       " [799] 0.00   NA 0.00   NA   NA 0.00 0.00 0.01 0.00 0.09 0.00   NA 0.04   NA\n",
       " [813]   NA 0.00 0.00 0.00   NA 0.00 0.00   NA   NA 0.00 0.00   NA 0.00 0.00\n",
       " [827]   NA 0.00   NA 0.00 0.00 0.00   NA 0.00 0.00 0.00 0.00 0.00   NA 0.00\n",
       " [841]   NA 0.00   NA 0.00   NA   NA   NA 0.00 0.00   NA 0.00 0.00 0.00 0.00\n",
       " [855] 0.00   NA 0.00 0.00 0.00 0.00   NA 0.00 0.00   NA 0.00 0.00 0.09 0.00\n",
       " [869] 0.00 0.00 0.11 0.00 0.00 0.00 0.03   NA 0.00   NA   NA 0.00   NA 0.00\n",
       " [883]   NA 0.00 0.00 0.00   NA 0.00   NA 0.00 0.00   NA 0.00 0.01 0.03 0.00\n",
       " [897] 0.08   NA 0.01   NA 0.05   NA   NA 0.00 0.00 0.00   NA   NA   NA 0.00\n",
       " [911] 0.06   NA 0.00 0.00   NA   NA   NA 0.00 0.00 0.00   NA 0.00   NA 0.00\n",
       " [925]   NA 0.00 0.00 0.00   NA 0.00   NA 0.00 0.00 0.58 0.00 0.00 0.00 0.00\n",
       " [939] 0.00 0.01 0.00 0.01   NA   NA   NA 0.00 0.00   NA 0.00 0.00 0.00 0.00\n",
       " [953] 0.06   NA 0.00 0.00 0.02   NA 0.00 0.00   NA 0.00   NA   NA 0.00 0.00\n",
       " [967]   NA 0.00   NA   NA 0.00   NA 0.00 0.00 0.00   NA 0.00 0.00 0.00 0.18\n",
       " [981]   NA 0.00 0.00   NA   NA   NA   NA 0.00 0.00 0.00   NA 0.00   NA 0.00\n",
       " [995] 0.00 0.00 0.00 0.00   NA   NA 0.04   NA 0.00   NA   NA 0.00 0.00 0.00\n",
       "[1009] 0.00   NA   NA   NA   NA 0.00 0.01 0.00   NA   NA 0.00   NA 0.00   NA\n",
       "[1023] 0.03 0.08   NA   NA   NA   NA   NA 0.00   NA   NA 0.00 0.00 0.00 0.00\n",
       "[1037] 0.00   NA 0.00   NA 0.00 0.00   NA   NA 0.00   NA 0.00 0.01   NA 0.00\n",
       "[1051]   NA   NA 0.00 0.00 0.00   NA 0.00 0.00 0.00 0.00 0.00 0.00 0.00   NA\n",
       "[1065] 0.00   NA 0.00   NA 0.00 0.00 0.00 0.00   NA 0.08 0.00   NA 0.00 0.00\n",
       "[1079]   NA 0.00 0.00 0.00 0.00 0.00   NA 0.00   NA   NA 0.00 0.00 0.00 0.00\n",
       "[1093] 0.00 0.00   NA   NA 0.00   NA 0.00 0.00   NA   NA   NA 0.00 0.00   NA\n",
       "[1107] 0.00 0.00 0.00   NA   NA 0.00   NA 0.00 0.00 0.00 0.00 0.00   NA 0.00\n",
       "[1121] 0.00   NA 0.00 0.00 0.00 0.00 0.00   NA   NA   NA 0.00 0.00 0.00   NA\n",
       "[1135] 0.00   NA 0.00   NA   NA 0.00 0.00   NA 0.00   NA   NA   NA 0.00 0.00\n",
       "[1149]   NA 0.00   NA 0.00 0.00   NA   NA 0.00   NA 0.00   NA 0.00 0.00 0.00\n",
       "[1163] 0.00   NA   NA 0.00 0.00   NA   NA 0.00 0.00 0.00 0.00 0.00   NA 0.00\n",
       "[1177] 0.00 0.00 0.00 0.00 0.00 0.02   NA   NA 0.00 0.00 0.00   NA   NA 0.00\n",
       "[1191] 0.01   NA 0.00   NA 0.00 0.00 0.00   NA 0.00 0.00 0.00 0.00 0.00 0.00\n",
       "[1205] 0.00 0.00 0.00 0.00 0.00 0.00   NA 0.12 0.00   NA   NA 0.00 0.00 0.00\n",
       "[1219] 0.00 0.00 0.00   NA 0.00 0.00   NA 0.04   NA 0.00   NA 0.00 0.01 0.00\n",
       "[1233] 0.00 0.00   NA 0.00 0.00   NA   NA   NA   NA 0.00 0.00 0.00   NA 0.00\n",
       "[1247]   NA 0.00   NA 0.00 0.00 0.00 0.00   NA 0.00 0.00 0.00   NA 0.00 0.00\n",
       "[1261] 0.00   NA 0.00 0.00   NA   NA 0.00   NA 0.00 0.00 0.03 0.00 0.00 0.00\n",
       "[1275] 0.00   NA 0.00 0.00 0.00   NA 0.00 0.00 0.00 0.00   NA 0.00 0.00 0.00\n",
       "[1289] 0.02 0.00 0.00 0.00 0.00 0.00 0.01 0.00   NA 0.00 0.00 0.01 0.00 0.03\n",
       "[1303]   NA 0.00   NA   NA 0.00 0.00 0.00   NA   NA   NA 0.00   NA 0.00 0.00\n",
       "[1317]   NA   NA 0.00   NA 0.00 0.03   NA 0.00 0.00   NA 0.00   NA 0.00 0.00\n",
       "[1331]   NA   NA 0.00 0.01 0.00 0.00   NA 0.09 0.00   NA 0.00   NA 0.00   NA\n",
       "[1345]   NA   NA 0.00 0.00 0.00 0.00 0.00 0.00 0.00   NA 0.00   NA 0.00 0.00\n",
       "[1359] 0.00 0.00   NA 0.00   NA 0.00   NA 0.00   NA 0.00 0.00 0.00   NA 0.00\n",
       "[1373] 0.00 0.05 0.00   NA 0.00 0.00 0.00 0.00   NA 0.00 0.00   NA 0.09 0.00\n",
       "[1387]   NA 0.00 0.01 0.00 0.00 0.00 0.00 0.00 0.00 0.00 0.00   NA   NA   NA\n",
       "[1401] 0.00 0.00   NA   NA 0.00   NA 0.00 0.01 0.00   NA   NA 0.02 0.00 0.00\n",
       "[1415]   NA   NA 0.00   NA 0.00 0.00 0.00 0.00 0.00 0.00 0.00   NA   NA 0.00\n",
       "[1429]   NA   NA 0.00   NA 0.02 0.13   NA   NA 0.00 0.00 0.00   NA   NA 0.00\n",
       "[1443] 0.00 0.00   NA 0.00   NA 0.00 0.00   NA 0.00 0.00   NA   NA 0.00 0.18\n",
       "[1457] 0.00   NA   NA 0.00   NA 0.00 0.00 0.00   NA 0.01 0.00 0.00 0.00 0.00\n",
       "[1471] 0.00 0.00 0.00 0.00   NA 0.00 0.00   NA 0.00 0.00 0.02 0.00   NA   NA\n",
       "[1485] 0.00 0.00 0.00 0.00 0.00   NA   NA 0.16 0.00 0.00   NA   NA 0.00   NA\n",
       "[1499] 0.00 0.11 0.00 0.00 0.00   NA 0.00 0.00 0.00 0.00   NA 0.00   NA 0.00\n",
       "[1513] 0.00   NA 0.01 0.00 0.00 0.00 0.00 0.03 0.00 0.00 0.04   NA 0.00   NA\n",
       "[1527]   NA   NA 0.00 0.00   NA   NA 0.00 0.00   NA   NA   NA   NA 0.00 0.00\n",
       "[1541]   NA   NA   NA   NA   NA 0.00 0.00 0.00 0.00 0.00 0.00 0.00 0.00 0.00\n",
       "[1555] 0.03 0.00   NA   NA 0.00   NA 0.00   NA   NA   NA   NA 0.00   NA   NA\n",
       "[1569] 0.03   NA   NA   NA   NA 0.00 0.00   NA   NA   NA   NA   NA 0.00 0.00\n",
       "[1583] 0.00   NA   NA   NA   NA 0.00 0.00   NA   NA 0.00 0.00 0.01 0.00 0.00\n",
       "[1597] 0.00 0.00   NA 0.00   NA 0.00 0.00 0.00   NA   NA 0.00 0.00 0.00 0.00\n",
       "[1611] 0.00   NA   NA 0.00 0.00 0.00 0.00 0.00 0.00   NA 0.00 0.00 0.00 0.00\n",
       "[1625] 0.00   NA   NA 0.00 0.00 0.00 0.00   NA 0.00   NA 0.00 0.00 0.00 0.00\n",
       "[1639] 0.00   NA 0.00 0.00 0.00 0.00 0.00 0.01 0.00 0.00 0.00 0.00   NA 0.00\n",
       "[1653]   NA 0.04 0.00 0.00 0.00   NA 0.00 0.00 0.00 0.00   NA 0.00 0.00   NA\n",
       "[1667] 0.10 0.00 0.00 0.00 0.00 0.00 0.00 0.00 0.00 0.00 0.00   NA   NA   NA\n",
       "[1681]   NA 0.06   NA 0.00   NA   NA   NA   NA 0.00   NA 0.00   NA   NA   NA\n",
       "[1695] 0.00 0.00 0.00 0.00   NA 0.00   NA 0.00 0.00   NA   NA 0.00 0.01 0.00\n",
       "[1709] 0.00 0.00 0.00   NA 0.00 0.00 0.00 0.00   NA 0.00 0.00 0.00   NA 0.00\n",
       "[1723]   NA 0.00 0.00 0.00 0.00   NA 0.00 0.12 0.00 0.00 0.00   NA   NA 0.00\n",
       "[1737] 0.00   NA   NA 0.06   NA 0.00 0.00 0.16   NA 0.00 0.00 0.00 0.00 0.00\n",
       "[1751] 0.00 0.00 0.00 0.00   NA 0.00 0.00   NA 0.06 0.00   NA 0.00 0.00   NA\n",
       "[1765] 0.01 0.00 0.00 0.00 0.08   NA   NA 0.00 0.00   NA   NA   NA   NA   NA\n",
       "[1779]   NA 0.00   NA 0.00 0.00 0.00   NA   NA 0.00   NA 0.00 0.00 0.00   NA\n",
       "[1793]   NA 0.00   NA 0.00   NA 0.00 0.00 0.00 0.00   NA   NA   NA   NA 0.00\n",
       "[1807]   NA 0.00 0.00 0.00   NA 0.00 0.00 0.00 0.00   NA 0.00 0.00 0.03   NA\n",
       "[1821] 0.00 0.00   NA 0.00 0.00   NA   NA 0.00 0.00 0.00 0.00   NA 0.00 0.00\n",
       "[1835] 0.00 0.00   NA 0.00   NA 0.00 0.00 0.00 0.00   NA 0.00   NA 0.11 0.00\n",
       "[1849] 0.00 0.00   NA 0.00 0.00 0.06 0.00 0.00   NA 0.46   NA   NA 0.00 0.00\n",
       "[1863] 0.02   NA   NA   NA 0.02 0.00   NA 0.00 0.00 0.00 0.00   NA 0.00   NA\n",
       "[1877] 0.00 0.00 0.00   NA 0.00 0.00 0.00 0.00 0.00   NA 0.00 0.00 0.01 0.00\n",
       "[1891] 0.00   NA 0.00 0.00 0.01   NA 0.00 0.00 0.00 0.00   NA 0.00 0.00 0.00\n",
       "[1905] 0.00 0.00 0.00 0.00 0.00   NA 0.00   NA   NA   NA 0.01 0.00   NA 0.00\n",
       "[1919] 0.00   NA   NA   NA 0.00   NA   NA 0.00   NA 0.00 0.00 0.00 0.00 0.00\n",
       "[1933] 0.00   NA 0.00 0.00 0.00 0.00 0.02 0.00 0.00   NA 0.00   NA 0.00   NA\n",
       "[1947] 0.00 0.00   NA 0.00 0.03 0.00   NA   NA   NA 0.00   NA 0.00 0.00 0.00\n",
       "[1961] 0.00 0.00 0.00 0.00 0.00   NA   NA 0.00 0.00 0.00   NA 0.00 0.00 0.00\n",
       "[1975] 0.00 0.01 0.00 0.00 0.00 0.00 0.00   NA 0.00 0.00 0.00 0.00 0.00 0.00\n",
       "[1989] 0.00 0.00 0.00   NA   NA   NA 0.00   NA 0.00 0.00 0.00 0.00 0.00 0.00\n",
       "[2003] 0.01 0.00   NA 0.00 0.00   NA   NA   NA 0.00 0.02 0.00   NA 0.00 0.00\n",
       "[2017] 0.00   NA   NA   NA 0.00 0.00 0.00   NA   NA 0.00   NA 0.00 0.00   NA\n",
       "[2031] 0.00   NA 0.00 0.00   NA   NA 0.00   NA   NA 0.00 0.00 0.00   NA 0.00\n",
       "[2045] 0.00 0.02 0.00 0.00   NA 0.00 0.00   NA 0.00 0.00 0.00 0.00 0.00   NA\n",
       "[2059]   NA   NA   NA 0.00 0.00 0.00 0.00 0.00   NA   NA   NA 0.00 0.00   NA\n",
       "[2073] 0.00   NA   NA 0.00 0.00 0.00   NA   NA 0.00 0.00 0.00   NA 0.00 0.00\n",
       "[2087]   NA 0.00   NA 0.00 0.00 0.00   NA 0.00 0.00 0.00   NA 0.00 0.00   NA\n",
       "[2101] 0.00   NA   NA   NA 0.01   NA 0.01 0.00 0.00 0.00   NA 0.00   NA 0.00\n",
       "[2115]   NA   NA 0.00 0.00 0.00 0.00   NA   NA 0.00 0.01 0.00 0.00 0.00 0.00\n",
       "[2129] 0.01 0.00 0.00   NA 0.00 0.00   NA   NA 0.00 0.00   NA   NA 0.00   NA\n",
       "[2143] 0.00 0.00   NA 0.00 0.00 0.00 0.00 0.00 0.00   NA   NA 0.00   NA 0.00\n",
       "[2157] 0.06   NA   NA 0.00   NA 0.00 0.00   NA 0.00   NA 0.00 0.00   NA   NA\n",
       "[2171] 0.00 0.00 0.00   NA 0.01 0.00   NA 0.00 0.00   NA 0.00 0.00 0.00 0.00\n",
       "[2185] 0.00 0.00 0.00   NA 1.07   NA 0.00 0.00 0.00 0.00   NA 0.00 0.00 0.01\n",
       "[2199] 0.00 0.00 0.00 0.00 0.00 0.00 0.00   NA   NA 0.00 0.00 0.00 0.00   NA\n",
       "[2213] 0.00   NA 0.00 0.08 0.00   NA 0.00 0.00 0.00   NA   NA 0.00 0.00 0.00\n",
       "[2227]   NA 0.00 0.00   NA   NA   NA 0.00 0.00   NA   NA 0.00 0.00 0.00 0.00\n",
       "[2241]   NA   NA 0.00 0.00   NA 0.00 0.00 0.00   NA 0.00 0.01 0.01 0.00   NA\n",
       "[2255]   NA   NA   NA   NA 0.00   NA   NA 0.00   NA   NA 0.00 0.00   NA 0.00\n",
       "[2269]   NA 0.00 0.00 0.00 0.00 0.00   NA   NA 0.00 0.00   NA 0.00 0.00 0.00\n",
       "[2283] 0.00 0.00 0.00 0.00 0.00 0.00 0.00   NA   NA 0.00   NA   NA 0.00 0.00\n",
       "[2297]   NA 0.00   NA 0.00 0.00   NA   NA   NA   NA   NA 0.00 0.00   NA   NA\n",
       "[2311] 0.00   NA   NA   NA 0.00 0.00 0.00   NA 0.00 0.00 0.00 0.02 0.00 0.00\n",
       "[2325]   NA 0.00 0.00 0.00 0.00 0.00 0.14 0.00 0.00   NA 0.00   NA   NA 0.00\n",
       "[2339]   NA   NA 0.00 0.00 0.00 1.19   NA   NA 0.00   NA 0.00   NA   NA   NA\n",
       "[2353]   NA 0.00   NA 0.00 0.00   NA   NA 0.00 0.00 0.00   NA 0.00 0.00   NA\n",
       "[2367]   NA 0.00 0.00 0.00 0.00 0.00 0.00 0.00   NA   NA   NA 0.00 0.00   NA\n",
       "[2381] 0.00   NA 0.00 0.00 0.00 0.00 0.00   NA 0.00 0.00 0.00   NA 0.00   NA\n",
       "[2395] 0.00 0.00 0.00 0.00   NA   NA   NA   NA 0.00   NA 0.00   NA   NA   NA\n",
       "[2409]   NA   NA 0.00   NA   NA   NA 0.00   NA 0.00 0.00 0.00 0.00 0.00   NA\n",
       "[2423] 0.00 0.00 0.00 0.00 0.00 0.00 0.00 0.00 0.00 0.00   NA 0.00 0.00 0.00\n",
       "[2437]   NA 0.00 0.00 0.00 0.00   NA   NA 0.00 0.00 0.00   NA 0.00 0.00 0.00\n",
       "[2451] 0.00 0.00 0.02 0.00 0.03   NA   NA 0.02   NA 0.00   NA 0.00   NA   NA\n",
       "[2465]   NA 0.00   NA 0.00   NA 0.00 0.01   NA   NA 0.00 0.00 0.00   NA 0.00\n",
       "[2479]   NA 0.00 0.00 0.00   NA 0.08   NA   NA 0.00 0.00   NA   NA 0.00 0.00\n",
       "[2493]   NA 0.06 0.00 0.00   NA 0.00 0.00   NA   NA 0.00 0.00   NA   NA   NA\n",
       "[2507] 0.00   NA 0.00   NA 0.00 0.04 0.00 0.00 0.00   NA 0.00   NA   NA   NA\n",
       "[2521] 0.00 0.00 0.00   NA 0.00 0.00 0.00 0.00 0.00   NA 0.34   NA   NA 0.00\n",
       "[2535]   NA   NA 0.00 0.00   NA   NA 0.00   NA   NA 0.00   NA 0.02   NA   NA\n",
       "[2549] 0.00   NA 0.00 0.00 0.00 0.00 0.00   NA 0.00 0.00 0.05 0.00 0.00   NA\n",
       "[2563] 0.00   NA   NA 0.00 0.00   NA   NA 0.00 0.00   NA 0.00 0.00 0.01 0.00\n",
       "[2577] 0.00 0.00 0.00   NA   NA 0.00 0.20 0.00 0.00 0.00 0.00 0.00 0.00 0.03\n",
       "[2591] 0.00   NA 0.00 0.00 0.36 0.00   NA 0.00 0.00 0.00   NA   NA 0.02 0.00\n",
       "[2605]   NA 0.00 0.00   NA 0.00   NA 0.00 0.00   NA 0.00   NA 0.00 0.01   NA\n",
       "[2619]   NA 0.00   NA   NA 0.00 0.00   NA   NA 0.00 0.00 0.00   NA   NA   NA\n",
       "[2633] 0.00 0.00   NA 0.00   NA 0.00 0.00   NA 0.00 0.00 0.00   NA 0.00 0.00\n",
       "[2647]   NA 0.00   NA 0.18 0.00 0.00   NA   NA   NA 0.00 0.05   NA 0.00 0.00\n",
       "[2661]   NA 0.00 0.00 0.00 0.00   NA   NA   NA 0.00 0.00   NA 0.00   NA   NA\n",
       "[2675] 0.13   NA   NA 0.00 0.00   NA 0.00   NA 0.00 0.00 0.00 0.42   NA   NA\n",
       "[2689]   NA 0.00   NA 0.00 0.00   NA 0.00   NA 0.00 0.00 0.00   NA   NA   NA\n",
       "[2703]   NA   NA 0.00 0.00   NA 0.00 0.00 0.00 0.00   NA 0.00   NA 0.00   NA\n",
       "[2717] 0.00   NA 0.00   NA 0.00 0.00 0.00 0.00 0.00   NA 0.00 0.09   NA   NA\n",
       "[2731] 0.00 0.00 0.00 0.00 0.00 0.00   NA   NA 0.00 0.00 0.00 0.00   NA 0.00\n",
       "[2745] 0.00 0.02 0.00   NA 0.00   NA   NA 0.10 0.00 0.03 0.00 0.00   NA 0.00\n",
       "[2759] 0.00 0.00 0.04 0.08 0.17   NA 0.00 0.00 0.00 0.00 0.00   NA   NA 0.00\n",
       "[2773] 0.00 0.00   NA   NA   NA   NA   NA   NA 0.00   NA   NA 0.00   NA 0.00\n",
       "[2787] 0.00 0.00 0.00 0.00 0.02   NA 0.00 0.00 0.00 0.00   NA 0.01 0.00 0.00\n",
       "[2801] 0.02 0.02   NA 0.00   NA   NA 0.05 0.00 0.00 0.00 0.00 0.00   NA 0.00\n",
       "[2815] 0.00 0.08 0.00 0.00 0.00   NA   NA 0.00   NA 0.00 0.00   NA   NA 0.27\n",
       "[2829] 0.00   NA 0.00 0.00 0.00 0.00   NA 0.00 0.00 0.00 0.00   NA 0.00   NA\n",
       "[2843] 0.00   NA   NA 0.00   NA   NA 0.00 0.00 0.00   NA 0.00   NA   NA 0.06\n",
       "[2857]   NA   NA 0.00   NA 0.00 0.00 0.00   NA   NA 0.00   NA   NA   NA 0.00\n",
       "[2871] 0.00 0.00 0.00 0.00   NA   NA   NA 0.00 0.00   NA 0.00 0.00 0.00 0.00\n",
       "[2885] 0.00 0.00 0.00   NA   NA 0.02   NA 0.00   NA 0.00   NA   NA   NA 0.00\n",
       "[2899] 0.00 0.00   NA   NA 0.00 0.00 0.00   NA   NA 0.00 0.00   NA   NA 0.00\n",
       "[2913] 0.01 0.00 0.00 0.00 0.00 0.09   NA   NA 0.00 0.00   NA 0.00   NA   NA\n",
       "[2927] 0.00   NA   NA 0.04   NA 0.00   NA 0.00   NA   NA 0.00 0.00   NA 0.00\n",
       "[2941] 0.00 0.00 0.00   NA 0.00   NA 0.00   NA 0.00 0.00   NA   NA 0.35   NA\n",
       "[2955] 0.00 0.00 0.00 0.00   NA 0.00 0.04 0.00 0.02   NA 0.00   NA 0.00 0.00\n",
       "[2969] 0.00   NA 0.00 0.03 0.00 0.00   NA 0.00 0.00   NA 0.00 0.00 0.00 0.00\n",
       "[2983] 0.00 0.00 0.00   NA   NA 0.00   NA   NA 0.01 0.00   NA   NA   NA   NA\n",
       "[2997] 0.07 0.00 0.00   NA 0.00 0.00 0.00 0.00   NA   NA 0.00 0.00   NA 0.00\n",
       "[3011]   NA   NA 0.00 0.00   NA 0.00 0.00   NA 0.00 0.00 0.00   NA   NA 0.02\n",
       "[3025] 0.00   NA   NA   NA 0.00 0.00   NA 0.00   NA   NA   NA 0.00 0.00   NA\n",
       "[3039] 0.31   NA 0.00 0.00 0.00   NA 0.00 0.00   NA 0.00 0.00 0.00   NA 0.00\n",
       "[3053]   NA   NA 0.00 0.00 0.01 0.00 0.00 0.00   NA 0.00 0.00 0.00 0.00   NA\n",
       "[3067]   NA   NA   NA 0.01 0.00 0.00 0.00 0.00   NA 0.00 0.00   NA 0.00 0.01\n",
       "[3081]   NA 0.00 0.00 0.00   NA   NA 0.00 0.00 0.00 0.00 0.00   NA 0.00 0.00\n",
       "[3095] 0.00 0.00   NA   NA 0.00   NA 0.00 0.00   NA 0.00   NA   NA   NA 0.00\n",
       "[3109] 0.00   NA   NA   NA 0.01 0.00 0.00 0.00 0.01 0.01 0.00   NA   NA 0.00\n",
       "[3123] 0.00   NA 0.00 0.00   NA   NA 0.00   NA 0.05 0.02 0.00 0.00 0.00 0.00\n",
       "[3137]   NA 0.05   NA   NA 0.00 0.00   NA 0.00 0.00 0.00 0.00 0.00   NA   NA\n",
       "[3151]   NA   NA 0.00 0.00 0.00   NA 0.00 0.00 0.00 0.02 0.00   NA 0.00 0.00\n",
       "[3165] 0.00   NA 0.00 0.01 0.00   NA 0.00 0.00   NA   NA 0.00 0.00   NA   NA\n",
       "[3179] 0.00 0.00 0.00 0.00 0.00 0.00 0.00 0.00 0.00   NA   NA 0.00 0.00 0.00\n",
       "[3193]   NA 0.00 0.00   NA 0.00   NA 0.00 0.00 0.00   NA 0.00   NA 0.00   NA\n",
       "[3207]   NA 0.00   NA 0.00   NA   NA 0.00 0.00 0.00   NA   NA 0.00 0.00 0.00\n",
       "[3221] 0.00 0.00   NA   NA   NA 0.00 0.00 0.00 0.00   NA 0.00 0.00   NA   NA\n",
       "[3235] 0.00   NA 0.00 0.00 0.00 0.00 0.00 0.00 0.00 0.00 0.00   NA   NA   NA\n",
       "[3249]   NA 0.00 0.01 0.00 0.00 0.00   NA 0.00 0.00 0.00   NA 0.00   NA 0.00\n",
       "[3263] 0.00   NA 0.00 0.00 0.00 0.00 0.00   NA 0.00   NA 0.06 0.00 0.00 0.00\n",
       "[3277] 0.02   NA 0.00 0.00   NA   NA   NA 0.00 0.00 0.00 0.00   NA   NA   NA\n",
       "[3291] 0.00   NA 0.00   NA 0.00   NA   NA 0.00   NA   NA 0.00 0.00   NA 0.00\n",
       "[3305]   NA   NA 0.00   NA   NA 0.00 0.00 0.00 0.00 0.00 0.00 0.00   NA 0.00\n",
       "[3319]   NA 0.00   NA   NA 0.00 0.00   NA 0.00 0.00 0.00 0.02   NA   NA   NA\n",
       "[3333]   NA 0.00   NA 0.00 0.02 0.00 0.00 0.01 0.00 0.02   NA   NA 0.00   NA\n",
       "[3347]   NA   NA 0.00 0.00   NA 0.02   NA   NA   NA 0.11 0.00 0.00   NA   NA\n",
       "[3361]   NA   NA   NA 0.00 0.00 0.00   NA   NA   NA   NA 0.00   NA   NA 0.33\n",
       "[3375] 0.00   NA   NA   NA   NA   NA 0.00   NA   NA 0.00 0.00 0.17   NA 0.00\n",
       "[3389]   NA 0.00 0.00 0.00   NA   NA   NA 0.00 0.00 0.00 0.00 0.00 0.01   NA\n",
       "[3403] 0.00 0.00 0.00 0.00   NA   NA 0.01 0.04 0.00 0.00 0.00   NA 0.00   NA\n",
       "[3417] 0.00 0.00 0.00 0.00   NA 0.00   NA   NA 0.00 0.00   NA   NA 0.02 0.00\n",
       "[3431] 0.00 0.00   NA   NA 0.00 0.00   NA 0.00 0.00   NA 0.00   NA   NA 0.00\n",
       "[3445]   NA 0.00 0.01   NA 0.00   NA 0.01 0.01 0.00 0.00 0.00 0.00 0.00   NA\n",
       "[3459] 0.00 0.00 0.00   NA   NA 0.00 0.00 0.00   NA   NA 0.00 0.00 0.00 0.00\n",
       "[3473] 0.00   NA   NA   NA 0.00   NA 0.00   NA 0.00 0.00 0.00   NA 0.00 0.00\n",
       "[3487]   NA   NA   NA 0.00   NA 0.02 0.00   NA   NA   NA 0.00 0.00 0.00   NA\n",
       "[3501] 0.00 0.00 0.00 0.02   NA 0.00 0.00   NA   NA 0.00   NA 0.00 0.00   NA\n",
       "[3515] 0.00 0.03 0.00   NA   NA   NA 0.00 0.00   NA   NA   NA   NA 0.00 0.00\n",
       "[3529]   NA 0.00   NA 0.00 0.00   NA   NA   NA   NA 0.00   NA   NA   NA 0.00\n",
       "[3543]   NA 0.00 0.00   NA 0.00 0.00 0.00 0.00   NA 0.00   NA 0.16 0.00   NA\n",
       "[3557] 0.00   NA   NA   NA 0.00 0.00   NA 0.00 0.00   NA   NA   NA 0.00 0.00\n",
       "[3571] 0.00   NA   NA   NA   NA 0.00 0.00   NA 0.01 0.00   NA 0.00   NA   NA\n",
       "[3585] 0.00 0.00 0.00 0.00   NA 0.00 0.00   NA   NA 0.00 0.00   NA   NA 0.00\n",
       "[3599] 0.00 0.00 0.00 0.00 0.00   NA   NA 0.00   NA   NA   NA   NA   NA   NA\n",
       "[3613]   NA 0.00   NA   NA 0.07 0.00 0.00 0.08 0.00 0.23 0.00 0.00 0.00 0.04\n",
       "[3627]   NA   NA   NA   NA 0.00 0.00 0.00 0.00 0.00 0.00 0.00   NA 0.00 0.00\n",
       "[3641] 0.00   NA 0.00 0.00 0.00   NA   NA   NA 0.00 0.00 0.00 0.00 0.03 0.00\n",
       "[3655] 0.00 0.00 0.00 0.00 0.00 0.00   NA   NA   NA   NA   NA 0.26   NA 0.00\n",
       "[3669] 0.00 0.00 0.16 0.00 0.00   NA   NA 0.00 0.00 0.00 0.00 0.00 0.00 0.00\n",
       "[3683] 0.00 0.00 0.00 0.00 0.00   NA   NA 0.00 0.00   NA 0.00 0.00   NA 0.00\n",
       "[3697] 0.00   NA   NA 0.00 0.00 0.00 0.00 0.00   NA 0.02 0.00 0.00   NA 0.00\n",
       "[3711]   NA   NA 0.00   NA 0.07   NA   NA   NA   NA 0.00 0.00   NA 0.00 0.02\n",
       "[3725] 0.00   NA 0.00   NA 0.00 0.00   NA 0.00 0.00   NA 0.00 0.00 0.23 0.00\n",
       "[3739] 0.00 0.00 0.00 0.08 0.00   NA 0.00   NA 0.00 0.00 0.00   NA 0.00   NA\n",
       "[3753] 0.00   NA 0.00   NA   NA 0.00   NA 0.00 0.00 0.00 0.00   NA 0.00   NA\n",
       "[3767] 0.00 0.00   NA 0.00   NA 0.00 0.00   NA 0.00 0.00   NA   NA 0.00   NA\n",
       "[3781] 0.00 0.00   NA 0.00 0.00 0.00   NA 0.05   NA 0.00 0.01 0.00 0.00 0.00\n",
       "[3795] 0.00 0.00 0.00 0.00 0.00 0.00 0.00 0.00 0.00 0.00 0.28   NA   NA 0.01\n",
       "[3809] 0.00 0.00 0.17   NA   NA   NA 0.00 0.00 0.00 0.00 0.00 0.00 0.00   NA\n",
       "[3823] 0.00   NA   NA   NA   NA 0.75 0.00   NA 0.00 0.00   NA 0.00   NA 0.00\n",
       "[3837]   NA 0.00 0.00 0.00   NA   NA 0.00   NA 0.00 0.00 0.00 0.00 0.00 0.00\n",
       "[3851] 0.00   NA 0.01   NA   NA   NA 0.00 0.00   NA 0.01 0.00 0.00 0.00 0.00\n",
       "[3865] 0.00 0.00   NA   NA 0.00 0.00   NA 0.01 0.00 0.00   NA 0.00 0.00 0.00\n",
       "[3879]   NA   NA 0.00 0.00 0.00 0.00   NA 0.05 0.00 0.00 0.01   NA 0.00   NA\n",
       "[3893] 0.00 0.00 0.00 0.00 0.00 0.00   NA 0.00 0.00   NA 0.00 0.00 0.00   NA\n",
       "[3907]   NA 0.00 0.00 0.00 0.04 0.00 0.00 0.00 0.01   NA 0.00 0.00   NA   NA\n",
       "[3921] 0.00   NA   NA 0.00   NA   NA 0.00 0.00   NA 0.00 0.07   NA 0.00 0.00\n",
       "[3935]   NA 0.00   NA 0.00 0.02 0.00   NA 0.00 0.00 0.00 0.00 0.03   NA 0.00\n",
       "[3949] 0.02   NA 0.03 0.00 0.02 0.00   NA 0.00 0.00   NA   NA 0.00   NA 0.00\n",
       "[3963]   NA   NA   NA 0.00 0.01 0.02   NA 0.01 0.00 0.00 0.00   NA 0.00   NA\n",
       "[3977]   NA 0.00 0.00 0.00   NA 0.00 0.00 0.00 0.01 0.08 0.00 0.00 0.00 0.06\n",
       "[3991] 0.00   NA 0.00 0.00 0.00   NA   NA 0.00 0.00 0.00 0.04 0.00 0.00 0.00\n",
       "[4005] 0.00 0.00 0.00   NA   NA 0.00 0.00   NA 0.00 0.01 0.00   NA 0.00   NA\n",
       "[4019] 0.00 0.00 0.00 0.08 0.00 0.00   NA   NA 0.00   NA 0.00 0.00 0.00 0.00\n",
       "[4033]   NA 0.00   NA   NA 0.00   NA   NA 0.00   NA 0.00 0.00 0.11 0.03   NA\n",
       "[4047]   NA   NA 0.00 0.00 0.00 0.00 0.00   NA   NA   NA 0.00   NA 0.00 0.00\n",
       "[4061] 0.00 0.00   NA   NA 0.04 0.00   NA   NA 0.00   NA   NA 0.00 0.00 0.00\n",
       "[4075] 0.00 0.05 0.00 0.00 0.00 0.00   NA 0.00   NA   NA 0.00 0.00 0.00   NA\n",
       "[4089] 0.00 0.00 0.00 0.00   NA 0.00 0.00 0.00   NA 0.00   NA   NA 0.00 0.00\n",
       "[4103] 0.00 0.03 0.00   NA   NA   NA   NA   NA 0.00   NA   NA   NA 0.00 0.00\n",
       "[4117] 0.00   NA   NA 0.00 0.00   NA   NA   NA 0.00 0.00 0.00 0.00 0.00 0.00\n",
       "[4131] 0.00 0.01   NA   NA 0.00   NA 0.00 0.00 0.00 0.10   NA   NA   NA 0.00\n",
       "[4145]   NA 0.00 0.00   NA 0.00 0.00 0.00   NA   NA 0.00   NA 0.00   NA   NA\n",
       "[4159] 0.00 0.00 0.00   NA 0.00 0.00 0.00 0.00   NA 0.00 0.00   NA 0.00 0.00\n",
       "[4173] 0.00   NA 0.00 0.00 0.00 0.00 0.00 0.00 0.00   NA 0.00   NA   NA   NA\n",
       "[4187] 0.00   NA 0.00 0.00 0.19   NA   NA   NA 0.06 0.02 0.00 0.00   NA 0.00\n",
       "[4201] 0.00 0.00 0.00 0.00   NA 0.00 0.01 0.00 0.00 0.00 0.00 0.00 0.00   NA\n",
       "[4215]   NA 0.04   NA   NA   NA   NA 0.00 0.00 0.00 0.00   NA   NA 0.00 0.00\n",
       "[4229] 0.00 0.00   NA   NA   NA 0.00 0.00 0.00   NA 0.00 0.00 0.02 0.00 0.00\n",
       "[4243] 0.00 0.04 0.09   NA 0.00   NA   NA   NA 0.08 0.00 0.00   NA 0.06 0.00\n",
       "[4257] 0.00 0.00   NA 0.00   NA 0.00 0.00 0.09 0.00 0.00 0.03   NA 0.00 0.00\n",
       "[4271]   NA 0.00 0.04   NA 0.00   NA   NA   NA 0.00   NA   NA   NA 0.01 0.00\n",
       "[4285] 0.00   NA   NA   NA   NA 0.00 0.00 0.00 0.00 0.00 0.00 0.00   NA   NA\n",
       "[4299] 0.26 0.00 0.00 0.00 0.00   NA 0.00 0.00   NA   NA   NA   NA   NA 0.00\n",
       "[4313] 0.00   NA   NA   NA 0.00 0.00 0.00   NA 0.01 0.00 0.00   NA 0.00   NA\n",
       "[4327] 0.00 0.00   NA   NA 0.00   NA 0.00 0.00 0.00 0.00   NA 0.00 0.00 0.00\n",
       "[4341] 0.00 0.00 0.00   NA 0.00 0.00 0.00   NA   NA 0.00 0.00 0.00 0.03 0.00\n",
       "[4355] 0.00 0.00 0.02   NA   NA 0.00   NA 0.01 0.07 0.00   NA   NA 0.00   NA\n",
       "[4369]   NA 0.00   NA   NA 0.00   NA 0.00 0.00   NA   NA   NA 0.03   NA 0.00\n",
       "[4383] 0.00   NA 0.00   NA 0.00 0.00   NA 0.00 0.00 0.07   NA 0.00   NA   NA\n",
       "[4397] 0.00 0.01 0.00   NA   NA 0.08   NA   NA   NA 0.00   NA 0.00 0.00 0.00\n",
       "[4411]   NA 0.00 0.00 0.00 0.00 0.19   NA   NA 0.00 0.00 0.00   NA 0.00 0.00\n",
       "[4425] 0.00   NA 0.00 0.11 0.00 0.00 0.00 0.00 0.01   NA   NA 0.00 0.00 0.00\n",
       "[4439] 0.00 0.00   NA   NA 0.00 0.00 0.01   NA   NA   NA   NA   NA 0.00 0.00\n",
       "[4453]   NA 0.01 0.00   NA 0.00   NA 0.00 0.00 0.05   NA 0.00 0.00 0.00 0.00\n",
       "[4467] 0.00 0.00 0.00   NA 0.00 0.00   NA 0.01 0.00 0.01   NA 0.01 0.00 0.00\n",
       "[4481] 0.00   NA   NA   NA 0.00 0.00 0.00 0.00 0.00   NA   NA 0.00   NA 0.00\n",
       "[4495] 0.00 0.00 0.00 0.00 0.00 0.00   NA   NA 0.00   NA 0.00 0.00 0.00 0.00\n",
       "[4509] 0.00 0.11 0.00 0.00 0.00   NA 0.00 0.00 0.00   NA 0.03 0.00 0.00 0.07\n",
       "[4523] 0.00 0.00   NA   NA   NA 0.00   NA 0.00 0.00 0.00 0.00 0.00   NA   NA\n",
       "[4537] 0.00 0.00 0.04 0.00 0.00   NA 0.00 0.04 0.00 0.01 0.00 0.00   NA 0.00\n",
       "[4551] 0.00 0.00 0.00 0.00 0.00 0.00 0.00 0.00 0.00 0.00 0.00 0.00   NA   NA\n",
       "[4565] 0.00 0.00 0.00 0.00   NA 0.00   NA 0.00 0.00 0.00 0.00 0.00 0.00 0.00\n",
       "[4579] 0.00   NA   NA 0.00 0.00   NA   NA 0.01 0.00 0.00 0.00   NA 0.00   NA\n",
       "[4593] 0.00 0.00 0.00 0.00 0.00 0.00 0.00 0.00 0.00 0.00   NA 0.00 0.00   NA\n",
       "[4607] 0.17   NA   NA   NA   NA   NA 0.00 0.00   NA 0.00 0.00 0.00 0.00   NA\n",
       "[4621]   NA   NA 0.00   NA   NA   NA   NA   NA   NA   NA 0.00 0.00 0.01 0.00\n",
       "[4635] 0.00   NA 0.00   NA 0.00 0.00 0.00 0.00 0.00   NA 0.00   NA 0.00 0.00\n",
       "[4649] 0.01 0.00   NA   NA 0.00   NA 0.00 0.00   NA 0.00 0.00 0.00   NA 0.36\n",
       "[4663] 0.00   NA 0.00 0.00 0.00   NA   NA 0.00 0.00   NA 0.00 0.00   NA 0.00\n",
       "[4677]   NA   NA 0.06   NA 0.00 0.00 0.00 0.00 0.00 0.00   NA   NA   NA 0.00\n",
       "[4691]   NA 0.00   NA   NA 0.00 0.00 0.00 0.00 0.00 0.00   NA   NA 0.00   NA\n",
       "[4705]   NA   NA 0.00 0.00 0.00 0.00 0.01   NA 0.01   NA 0.00   NA 0.00 0.00\n",
       "[4719]   NA   NA   NA 0.00 0.00   NA 0.00 0.00 0.00 0.00 0.03 0.00   NA   NA\n",
       "[4733] 0.00 0.00 0.00 0.00   NA 0.00 0.00 0.00 0.00 0.00   NA   NA 0.00 0.00\n",
       "[4747]   NA 0.01   NA   NA 0.00 0.00 0.00 0.00   NA   NA   NA   NA   NA 0.00\n",
       "[4761] 0.00 0.00   NA   NA   NA   NA 0.00 0.00 0.00 0.00 0.00 0.00 0.00   NA\n",
       "[4775] 0.00   NA   NA 0.00 0.00 0.00 0.00 0.02   NA   NA 0.00 0.01 0.00 0.00\n",
       "[4789] 0.00   NA 0.00 0.00 0.00   NA 0.00 0.00 0.00   NA   NA 0.00 0.23 0.00\n",
       "[4803] 0.00   NA 0.00   NA   NA 0.00 0.00 0.00 0.00   NA 0.00 0.00   NA 0.00\n",
       "[4817] 0.00 0.00   NA 0.00 0.00 0.00 0.00   NA 0.00   NA 0.00 0.00 0.00   NA\n",
       "[4831] 0.00 0.00   NA 0.00   NA   NA   NA 0.00 0.00   NA   NA   NA 0.10   NA\n",
       "[4845] 0.00 0.00 0.00 0.00 0.00 0.00 0.00   NA 0.01   NA 0.00   NA 0.00 0.00\n",
       "[4859] 0.00 0.00   NA   NA   NA 0.00 0.02 0.00   NA 0.00 0.00   NA   NA   NA\n",
       "[4873] 0.00   NA   NA   NA   NA 0.00 0.00 0.00   NA 0.00   NA 0.00 0.00   NA\n",
       "[4887] 0.00 0.00   NA 0.00 0.00 0.00 0.00 0.07 0.00   NA   NA 0.00 0.00 0.00\n",
       "[4901]   NA 0.00 0.01 0.00 0.00 0.00   NA   NA 0.02 0.00 0.00   NA 0.00 0.00\n",
       "[4915] 0.00   NA 0.00   NA 0.00 0.00 0.02   NA 0.00   NA   NA 0.00 0.00   NA\n",
       "[4929]   NA   NA   NA   NA   NA 0.04   NA 0.00 0.00   NA 0.00 0.00   NA 0.00\n",
       "[4943] 0.00   NA   NA 0.00   NA   NA   NA 0.00   NA   NA 0.00 0.00 0.00 0.00\n",
       "[4957] 0.00 0.00   NA   NA 0.00 0.00   NA   NA   NA   NA 0.00   NA   NA 0.01\n",
       "[4971] 0.00 0.00 0.00 0.00 0.00 0.00 0.00   NA 0.00 0.00 0.00 0.00 0.00 0.00\n",
       "[4985]   NA   NA 0.00 0.00 0.00 0.01   NA   NA 0.00   NA 0.00   NA 0.00 0.00\n",
       "[4999] 0.00 0.00   NA   NA   NA   NA 0.00   NA 0.00   NA 0.00   NA 0.00 0.00\n",
       "[5013]   NA 0.00 0.00 0.00 0.00 0.00 0.00   NA 0.00   NA 0.00 0.00 0.00   NA\n",
       "[5027] 0.00   NA 0.00 0.00 0.00   NA 0.03   NA 0.00   NA 0.00 0.05 0.00 0.00\n",
       "[5041] 0.00   NA 0.00 0.04 0.05 0.00 0.00   NA 0.00 0.00 0.01   NA   NA   NA\n",
       "[5055]   NA 0.00   NA 0.03 0.00   NA 0.04 0.00   NA   NA 0.02 0.00   NA   NA\n",
       "[5069]   NA 0.00 0.00 0.00 0.00 0.00   NA 0.00   NA   NA 0.00 0.00 0.01 0.00\n",
       "[5083] 0.00 0.00 0.00 0.00 0.00 0.00   NA   NA 0.00   NA   NA   NA   NA 0.00\n",
       "[5097] 0.00 0.00 0.00   NA 0.00 0.01 0.00 0.00 0.00   NA   NA 0.00 0.00 0.00\n",
       "[5111]   NA 0.00 0.00   NA   NA 0.00   NA 0.00   NA 0.00   NA   NA 0.00 0.00\n",
       "[5125] 0.00 0.00 0.14 0.00   NA 0.00 0.00   NA 0.00 0.00 0.00   NA   NA 0.00\n",
       "[5139] 0.00 0.00   NA 0.00 0.00 0.00 0.00   NA 0.00   NA   NA 0.00 0.01   NA\n",
       "[5153] 0.00   NA 0.00   NA 0.00 0.00 0.00   NA 0.00 0.00   NA   NA 0.00   NA\n",
       "[5167]   NA 0.00 0.00 0.00 0.00   NA 0.02 0.00 0.00 0.00 0.00   NA 0.00 0.06\n",
       "[5181]   NA 0.00 0.00 0.00 0.00 0.00   NA 0.00 0.00 0.00   NA   NA 0.01 0.00\n",
       "[5195] 0.00   NA   NA   NA   NA   NA 0.00 0.00 0.00   NA 0.00   NA 0.00   NA\n",
       "[5209]   NA   NA 0.00 0.00 0.00 0.02   NA 0.00 0.00   NA 0.03   NA 0.00   NA\n",
       "[5223] 0.00 0.00 0.00 0.00   NA 0.00   NA   NA   NA 0.00   NA   NA   NA 0.00\n",
       "[5237] 0.00 0.03 0.00   NA   NA 0.00 0.00   NA   NA 0.00 0.00 0.00   NA 0.00\n",
       "[5251]   NA 0.00   NA 0.00   NA 0.00 0.00 0.00   NA 0.00 0.00 0.01 0.00 0.00\n",
       "[5265]   NA 0.01 0.00   NA 0.00 0.00 0.00 0.00 0.00 0.00   NA   NA 0.00   NA\n",
       "[5279]   NA   NA 0.11   NA 0.00 0.00 0.00   NA 0.00 0.00 0.00 0.00 0.00 0.00\n",
       "[5293]   NA 0.00 0.00   NA 0.00 0.00 0.00 0.00 0.00 0.07 0.00 0.00 0.00   NA\n",
       "[5307]   NA 0.00 0.00 0.00   NA 0.00 0.00 0.00   NA 0.00 0.00 0.00 0.01 0.00\n",
       "[5321]   NA 0.00 0.00 0.00 0.00 0.02 0.00   NA 0.00   NA 0.00 0.00 0.04 0.00\n",
       "[5335]   NA 0.00 0.00 0.00   NA 0.00   NA 0.00   NA   NA 0.00 0.00   NA   NA\n",
       "[5349] 0.00 0.00 0.00 0.00   NA   NA 0.20   NA 0.00 0.00 0.00 0.00 0.00 0.00\n",
       "[5363] 0.00   NA   NA   NA 0.00 0.00   NA 0.00 0.00 0.00   NA 0.00 0.00 0.00\n",
       "[5377]   NA   NA   NA   NA 0.01   NA 0.00 0.00   NA   NA 0.00   NA   NA 0.00\n",
       "[5391] 0.07   NA   NA 0.00 0.00 0.00 0.00 0.08 0.00 0.10 0.00 0.00 0.00   NA\n",
       "[5405]   NA 0.00   NA   NA 0.00 0.00   NA 0.00   NA   NA 0.00 0.00   NA 0.00\n",
       "[5419] 0.00 0.00 0.00   NA 0.11 0.00 0.00   NA   NA   NA 0.04   NA 0.00 0.00\n",
       "[5433] 0.00 0.00 0.00 0.01   NA 0.00 0.00 0.00   NA 0.01 0.00 0.02   NA 0.00\n",
       "[5447]   NA 0.00   NA   NA   NA   NA 0.00 0.00   NA 0.00   NA   NA   NA 0.00\n",
       "[5461] 0.00   NA 0.00 0.54   NA 0.00 0.04 0.00 0.00 0.00 0.00 0.00   NA   NA\n",
       "[5475] 0.00 0.00 0.00 0.00   NA 0.00   NA   NA 0.00 0.00   NA   NA   NA 0.59\n",
       "[5489] 0.00 0.00 0.00 0.00 0.00 0.00 0.00   NA 0.00   NA 0.00   NA 0.02 0.00\n",
       "[5503] 0.00   NA 0.09 0.00   NA   NA   NA   NA   NA 0.00 0.00   NA 0.00 0.00\n",
       "[5517]   NA 0.00   NA   NA 0.00 0.00 0.00 0.00   NA 0.00 0.00 0.00 0.00 0.00\n",
       "[5531]   NA 0.00 0.00   NA 0.00   NA   NA 0.00   NA 0.00 0.00   NA 0.00 0.00\n",
       "[5545] 0.00 0.00   NA 0.00 0.00   NA 0.00 0.00 0.00   NA 0.00 0.00 0.00 0.00\n",
       "[5559] 0.21 0.00   NA 0.00 0.00 0.02 0.00   NA 0.00 0.00 0.00   NA 0.00 0.00\n",
       "[5573] 0.00 0.00 0.00   NA 0.01 0.00 0.00 0.00 0.01 0.10 0.00 0.00   NA   NA\n",
       "[5587] 0.00 0.00 0.02 0.01   NA 0.00   NA   NA 0.00   NA 0.00 0.00 0.00 0.00\n",
       "[5601]   NA 0.00 0.00 0.00 0.00 0.00 0.00 0.00 0.00 0.00 0.00 0.00 0.00   NA\n",
       "[5615] 0.00 0.00   NA   NA 0.00 0.00   NA   NA   NA   NA 0.00 0.03   NA 0.08\n",
       "[5629]   NA 0.00 0.00   NA 0.00 0.00 0.00 0.00 0.00 0.00   NA   NA   NA 0.00\n",
       "[5643] 0.00 0.00 0.00 0.00   NA 0.00 0.00 0.00   NA 0.00   NA 0.00   NA 0.00\n",
       "[5657] 0.04 0.00   NA 0.00   NA   NA 0.00   NA 0.00 0.01 0.00   NA 0.00   NA\n",
       "[5671]   NA 0.00   NA   NA   NA 0.00 0.00 0.16 0.00 0.00   NA   NA   NA 0.00\n",
       "[5685]   NA 0.00   NA 0.00 0.00 0.00 0.00 0.00   NA   NA 0.00   NA 0.00   NA\n",
       "[5699] 0.00   NA 0.00 0.00 0.00 0.00 0.00 0.00 0.02 0.00 0.00   NA 0.00 0.00\n",
       "[5713] 0.00 0.00 0.00   NA 0.00 0.03 0.00 0.00 0.01 0.00 0.00   NA 0.00 0.00\n",
       "[5727] 0.00"
      ]
     },
     "metadata": {},
     "output_type": "display_data"
    }
   ],
   "source": [
    "as.numeric(wea_data$HOURLYPrecip)"
   ]
  },
  {
   "cell_type": "markdown",
   "metadata": {},
   "source": [
    "We can now see that all fields have numerical data type.\n"
   ]
  },
  {
   "cell_type": "code",
   "execution_count": 23,
   "metadata": {},
   "outputs": [
    {
     "data": {
      "text/html": [
       "'double'"
      ],
      "text/latex": [
       "'double'"
      ],
      "text/markdown": [
       "'double'"
      ],
      "text/plain": [
       "[1] \"double\""
      ]
     },
     "metadata": {},
     "output_type": "display_data"
    }
   ],
   "source": [
    "typeof(wea_data$HOURLYPrecip)"
   ]
  },
  {
   "cell_type": "markdown",
   "metadata": {},
   "source": [
    "<a id=\"cell6\"></a>\n",
    "## 6. Rename Columns\n",
    "Let's rename the following columns as:\n",
    "- 'HOURLYRelativeHumidity' to 'relative_humidity'\n",
    "- 'HOURLYDRYBULBTEMPF' to 'dry_bulb_temp_f'\n",
    "- 'HOURLYPrecip' to 'precip'\n",
    "- 'HOURLYWindSpeed' to 'wind_speed'\n",
    "- 'HOURLYStationPressure' to 'station_pressure'\n",
    "\n",
    "You can use `dplyr::rename()`. Then, store the final dataframe as a new variable.\n"
   ]
  },
  {
   "cell_type": "code",
   "execution_count": 24,
   "metadata": {},
   "outputs": [
    {
     "data": {
      "text/html": [
       "<table>\n",
       "<caption>A tibble: 6 × 5</caption>\n",
       "<thead>\n",
       "\t<tr><th scope=col>relative_humidity</th><th scope=col>dry_bulb_temp_f</th><th scope=col>precip</th><th scope=col>wind_speed</th><th scope=col>station_pressure</th></tr>\n",
       "\t<tr><th scope=col>&lt;dbl&gt;</th><th scope=col>&lt;dbl&gt;</th><th scope=col>&lt;dbl&gt;</th><th scope=col>&lt;dbl&gt;</th><th scope=col>&lt;dbl&gt;</th></tr>\n",
       "</thead>\n",
       "<tbody>\n",
       "\t<tr><td>46</td><td>83</td><td>0</td><td>13</td><td>29.99</td></tr>\n",
       "\t<tr><td>48</td><td>53</td><td>0</td><td> 6</td><td>30.03</td></tr>\n",
       "\t<tr><td>89</td><td>36</td><td>0</td><td>13</td><td>30.12</td></tr>\n",
       "\t<tr><td>48</td><td>36</td><td>0</td><td>14</td><td>29.80</td></tr>\n",
       "\t<tr><td>61</td><td>39</td><td>0</td><td>11</td><td>30.50</td></tr>\n",
       "\t<tr><td>79</td><td>41</td><td>0</td><td> 6</td><td>29.92</td></tr>\n",
       "</tbody>\n",
       "</table>\n"
      ],
      "text/latex": [
       "A tibble: 6 × 5\n",
       "\\begin{tabular}{lllll}\n",
       " relative\\_humidity & dry\\_bulb\\_temp\\_f & precip & wind\\_speed & station\\_pressure\\\\\n",
       " <dbl> & <dbl> & <dbl> & <dbl> & <dbl>\\\\\n",
       "\\hline\n",
       "\t 46 & 83 & 0 & 13 & 29.99\\\\\n",
       "\t 48 & 53 & 0 &  6 & 30.03\\\\\n",
       "\t 89 & 36 & 0 & 13 & 30.12\\\\\n",
       "\t 48 & 36 & 0 & 14 & 29.80\\\\\n",
       "\t 61 & 39 & 0 & 11 & 30.50\\\\\n",
       "\t 79 & 41 & 0 &  6 & 29.92\\\\\n",
       "\\end{tabular}\n"
      ],
      "text/markdown": [
       "\n",
       "A tibble: 6 × 5\n",
       "\n",
       "| relative_humidity &lt;dbl&gt; | dry_bulb_temp_f &lt;dbl&gt; | precip &lt;dbl&gt; | wind_speed &lt;dbl&gt; | station_pressure &lt;dbl&gt; |\n",
       "|---|---|---|---|---|\n",
       "| 46 | 83 | 0 | 13 | 29.99 |\n",
       "| 48 | 53 | 0 |  6 | 30.03 |\n",
       "| 89 | 36 | 0 | 13 | 30.12 |\n",
       "| 48 | 36 | 0 | 14 | 29.80 |\n",
       "| 61 | 39 | 0 | 11 | 30.50 |\n",
       "| 79 | 41 | 0 |  6 | 29.92 |\n",
       "\n"
      ],
      "text/plain": [
       "  relative_humidity dry_bulb_temp_f precip wind_speed station_pressure\n",
       "1 46                83              0      13         29.99           \n",
       "2 48                53              0       6         30.03           \n",
       "3 89                36              0      13         30.12           \n",
       "4 48                36              0      14         29.80           \n",
       "5 61                39              0      11         30.50           \n",
       "6 79                41              0       6         29.92           "
      ]
     },
     "metadata": {},
     "output_type": "display_data"
    }
   ],
   "source": [
    "wea_data3 <- wea_data %>%\n",
    "             replace_na(list(HOURLYPrecip = 0)) %>%\n",
    "             rename(\"relative_humidity\"=\"HOURLYRelativeHumidity\",\n",
    "                    'dry_bulb_temp_f'='HOURLYDRYBULBTEMPF',\n",
    "                    'precip'='HOURLYPrecip',\n",
    "                    'wind_speed'='HOURLYWindSpeed',\n",
    "                    'station_pressure'='HOURLYStationPressure')\n",
    "\n",
    "head(wea_data3)"
   ]
  },
  {
   "cell_type": "markdown",
   "metadata": {},
   "source": [
    "<a id=\"cell7\"></a>\n",
    "## 7. Exploratory Data Analysis\n",
    "Now that you have finished preprocessing the dataset, you can can start exploring the columns more.\n",
    "\n",
    "First, split the data into a training and testing set. Splitting a dataset is done randomly, so to have reproducible results set the seed = 1234. Also, use 80% of the data for training.\n"
   ]
  },
  {
   "cell_type": "code",
   "execution_count": 25,
   "metadata": {},
   "outputs": [],
   "source": [
    "set.seed(1234)\n",
    "wea_split <- initial_split(wea_data3, prop = 0.8)\n",
    "train_data <- training(wea_split)\n",
    "test_data <- testing(wea_split)"
   ]
  },
  {
   "cell_type": "markdown",
   "metadata": {},
   "source": [
    "Next, looking at just the **training set**, plot histograms or box plots of the variables (`relative_humidity`, `dry_bulb_temp_f`, `precip`, `wind_speed`,  `station_pressure`) for an intial look of their distributions using `tidyverse`'s `ggplot`. Leave the testing set as is because it is good practice to not see the testing set until evaluating the final model.\n"
   ]
  },
  {
   "cell_type": "code",
   "execution_count": 26,
   "metadata": {},
   "outputs": [
    {
     "name": "stderr",
     "output_type": "stream",
     "text": [
      "`stat_bin()` using `bins = 30`. Pick better value with `binwidth`.\n",
      "Warning message:\n",
      "“Removed 127 rows containing non-finite values (stat_bin).”"
     ]
    },
    {
     "data": {},
     "metadata": {},
     "output_type": "display_data"
    },
    {
     "data": {
      "image/png": "[encoded data removed]",
      "text/plain": [
       "plot without title"
      ]
     },
     "metadata": {},
     "output_type": "display_data",
     "source": "R display func"
    }
   ],
   "source": [
    "train_hist1 <-ggplot(train_data, aes(x=relative_humidity))+\n",
    "  geom_histogram()\n",
    "train_hist1"
   ]
  },
  {
   "cell_type": "code",
   "execution_count": 27,
   "metadata": {},
   "outputs": [
    {
     "name": "stderr",
     "output_type": "stream",
     "text": [
      "`stat_bin()` using `bins = 30`. Pick better value with `binwidth`.\n",
      "Warning message:\n",
      "“Removed 127 rows containing non-finite values (stat_bin).”"
     ]
    },
    {
     "data": {},
     "metadata": {},
     "output_type": "display_data"
    },
    {
     "data": {
      "image/png": "[encoded data removed]",
      "text/plain": [
       "plot without title"
      ]
     },
     "metadata": {},
     "output_type": "display_data",
     "source": "R display func"
    }
   ],
   "source": [
    "train_hist2 <-ggplot(train_data, aes(x=dry_bulb_temp_f))+\n",
    "  geom_histogram()\n",
    "train_hist2"
   ]
  },
  {
   "cell_type": "code",
   "execution_count": 28,
   "metadata": {},
   "outputs": [
    {
     "name": "stderr",
     "output_type": "stream",
     "text": [
      "`stat_bin()` using `bins = 30`. Pick better value with `binwidth`.\n"
     ]
    },
    {
     "data": {},
     "metadata": {},
     "output_type": "display_data"
    },
    {
     "data": {
      "image/png": "[encoded data removed]",
      "text/plain": [
       "plot without title"
      ]
     },
     "metadata": {},
     "output_type": "display_data",
     "source": "R display func"
    }
   ],
   "source": [
    "train_hist3 <-ggplot(train_data, aes(x=precip))+\n",
    "  geom_histogram()\n",
    "train_hist3"
   ]
  },
  {
   "cell_type": "code",
   "execution_count": 30,
   "metadata": {},
   "outputs": [
    {
     "name": "stderr",
     "output_type": "stream",
     "text": [
      "`stat_bin()` using `bins = 30`. Pick better value with `binwidth`.\n",
      "Warning message:\n",
      "“Removed 132 rows containing non-finite values (stat_bin).”"
     ]
    },
    {
     "data": {},
     "metadata": {},
     "output_type": "display_data"
    },
    {
     "data": {
      "image/png": "[encoded data removed]",
      "text/plain": [
       "plot without title"
      ]
     },
     "metadata": {},
     "output_type": "display_data",
     "source": "R display func"
    }
   ],
   "source": [
    "train_hist4 <-ggplot(train_data, aes(x=wind_speed))+\n",
    "  geom_histogram()\n",
    "train_hist4"
   ]
  },
  {
   "cell_type": "code",
   "execution_count": 31,
   "metadata": {},
   "outputs": [
    {
     "name": "stderr",
     "output_type": "stream",
     "text": [
      "`stat_bin()` using `bins = 30`. Pick better value with `binwidth`.\n",
      "Warning message:\n",
      "“Removed 133 rows containing non-finite values (stat_bin).”"
     ]
    },
    {
     "data": {},
     "metadata": {},
     "output_type": "display_data"
    },
    {
     "data": {
      "image/png": "[encoded data removed]",
      "text/plain": [
       "plot without title"
      ]
     },
     "metadata": {},
     "output_type": "display_data",
     "source": "R display func"
    }
   ],
   "source": [
    "train_hist5 <-ggplot(train_data, aes(x=station_pressure))+\n",
    "  geom_histogram()\n",
    "train_hist5"
   ]
  },
  {
   "cell_type": "markdown",
   "metadata": {},
   "source": [
    "<a id=\"cell8\"></a>\n",
    "## 8. Linear Regression \n",
    "After exploring the dataset more, you are now ready to start creating models to predict the precipitation (`precip`).\n",
    "\n",
    "Create simple linear regression models where `precip` is the response variable and each of `relative_humidity`, `dry_bulb_temp_f`,`wind_speed` or `station_pressure` will be a predictor variable, e.g. `precip ~ relative_humidity`, `precip ~ dry_bulb_temp_f`, etc. for a total of four simple models. \n",
    "Additionally, visualize each simple model with a scatter plot.\n"
   ]
  },
  {
   "cell_type": "code",
   "execution_count": 33,
   "metadata": {},
   "outputs": [],
   "source": [
    "# Pick linear regression\n",
    "lm_spec <- linear_reg() %>%\n",
    " # Set engine\n",
    " set_engine(engine = \"lm\")"
   ]
  },
  {
   "cell_type": "code",
   "execution_count": 34,
   "metadata": {},
   "outputs": [
    {
     "data": {
      "text/plain": [
       "parsnip model object\n",
       "\n",
       "Fit time:  7ms \n",
       "\n",
       "Call:\n",
       "stats::lm(formula = formula, data = data)\n",
       "\n",
       "Coefficients:\n",
       "      (Intercept)  relative_humidity  \n",
       "       -0.0149382          0.0002952  \n"
      ]
     },
     "metadata": {},
     "output_type": "display_data"
    }
   ],
   "source": [
    "train_fit1 <- lm_spec %>% \n",
    "    fit(precip ~ relative_humidity, data = train_data)\n",
    "train_fit1"
   ]
  },
  {
   "cell_type": "code",
   "execution_count": 36,
   "metadata": {},
   "outputs": [
    {
     "data": {
      "text/plain": [
       "parsnip model object\n",
       "\n",
       "Fit time:  2ms \n",
       "\n",
       "Call:\n",
       "stats::lm(formula = formula, data = data)\n",
       "\n",
       "Coefficients:\n",
       "    (Intercept)  dry_bulb_temp_f  \n",
       "      5.468e-03       -1.145e-05  \n"
      ]
     },
     "metadata": {},
     "output_type": "display_data"
    }
   ],
   "source": [
    "train_fit2 <- lm_spec %>%\n",
    "    fit(precip ~ dry_bulb_temp_f, data = train_data)\n",
    "train_fit2"
   ]
  },
  {
   "cell_type": "code",
   "execution_count": 37,
   "metadata": {},
   "outputs": [
    {
     "data": {
      "text/plain": [
       "parsnip model object\n",
       "\n",
       "Fit time:  3ms \n",
       "\n",
       "Call:\n",
       "stats::lm(formula = formula, data = data)\n",
       "\n",
       "Coefficients:\n",
       "(Intercept)   wind_speed  \n",
       "  0.0006200    0.0003748  \n"
      ]
     },
     "metadata": {},
     "output_type": "display_data"
    }
   ],
   "source": [
    "train_fit3 <- lm_spec %>% \n",
    "    fit(precip ~ wind_speed, data = train_data)\n",
    "train_fit3"
   ]
  },
  {
   "cell_type": "code",
   "execution_count": 38,
   "metadata": {},
   "outputs": [
    {
     "data": {
      "text/plain": [
       "parsnip model object\n",
       "\n",
       "Fit time:  3ms \n",
       "\n",
       "Call:\n",
       "stats::lm(formula = formula, data = data)\n",
       "\n",
       "Coefficients:\n",
       "     (Intercept)  station_pressure  \n",
       "         0.49174          -0.01624  \n"
      ]
     },
     "metadata": {},
     "output_type": "display_data"
    }
   ],
   "source": [
    "train_fit4 <- lm_spec %>% \n",
    "    fit(precip ~ station_pressure, data = train_data)\n",
    "train_fit4"
   ]
  },
  {
   "cell_type": "code",
   "execution_count": 39,
   "metadata": {},
   "outputs": [
    {
     "data": {
      "text/html": [
       "<table>\n",
       "<caption>A tibble: 6 × 2</caption>\n",
       "<thead>\n",
       "\t<tr><th scope=col>.pred</th><th scope=col>truth</th></tr>\n",
       "\t<tr><th scope=col>&lt;dbl&gt;</th><th scope=col>&lt;dbl&gt;</th></tr>\n",
       "</thead>\n",
       "<tbody>\n",
       "\t<tr><td>-0.001360811</td><td>0.00</td></tr>\n",
       "\t<tr><td> 0.011331071</td><td>0.00</td></tr>\n",
       "\t<tr><td> 0.008379471</td><td>0.00</td></tr>\n",
       "\t<tr><td> 0.004247230</td><td>0.00</td></tr>\n",
       "\t<tr><td> 0.011626232</td><td>0.06</td></tr>\n",
       "\t<tr><td> 0.008379471</td><td>0.00</td></tr>\n",
       "</tbody>\n",
       "</table>\n"
      ],
      "text/latex": [
       "A tibble: 6 × 2\n",
       "\\begin{tabular}{ll}\n",
       " .pred & truth\\\\\n",
       " <dbl> & <dbl>\\\\\n",
       "\\hline\n",
       "\t -0.001360811 & 0.00\\\\\n",
       "\t  0.011331071 & 0.00\\\\\n",
       "\t  0.008379471 & 0.00\\\\\n",
       "\t  0.004247230 & 0.00\\\\\n",
       "\t  0.011626232 & 0.06\\\\\n",
       "\t  0.008379471 & 0.00\\\\\n",
       "\\end{tabular}\n"
      ],
      "text/markdown": [
       "\n",
       "A tibble: 6 × 2\n",
       "\n",
       "| .pred &lt;dbl&gt; | truth &lt;dbl&gt; |\n",
       "|---|---|\n",
       "| -0.001360811 | 0.00 |\n",
       "|  0.011331071 | 0.00 |\n",
       "|  0.008379471 | 0.00 |\n",
       "|  0.004247230 | 0.00 |\n",
       "|  0.011626232 | 0.06 |\n",
       "|  0.008379471 | 0.00 |\n",
       "\n"
      ],
      "text/plain": [
       "  .pred        truth\n",
       "1 -0.001360811 0.00 \n",
       "2  0.011331071 0.00 \n",
       "3  0.008379471 0.00 \n",
       "4  0.004247230 0.00 \n",
       "5  0.011626232 0.06 \n",
       "6  0.008379471 0.00 "
      ]
     },
     "metadata": {},
     "output_type": "display_data"
    }
   ],
   "source": [
    "#train_fit1\n",
    "train_results1 <- train_fit1 %>%\n",
    "  # Make the predictions and save the predicted values\n",
    "  predict(new_data = train_data) %>%\n",
    "  # Create a new column to save the true values\n",
    "  mutate(truth = train_data$precip)\n",
    "head(train_results1)"
   ]
  },
  {
   "cell_type": "code",
   "execution_count": 40,
   "metadata": {},
   "outputs": [
    {
     "data": {
      "text/html": [
       "<table>\n",
       "<caption>A tibble: 1 × 3</caption>\n",
       "<thead>\n",
       "\t<tr><th scope=col>.metric</th><th scope=col>.estimator</th><th scope=col>.estimate</th></tr>\n",
       "\t<tr><th scope=col>&lt;chr&gt;</th><th scope=col>&lt;chr&gt;</th><th scope=col>&lt;dbl&gt;</th></tr>\n",
       "</thead>\n",
       "<tbody>\n",
       "\t<tr><td>rsq</td><td>standard</td><td>0.02618345</td></tr>\n",
       "</tbody>\n",
       "</table>\n"
      ],
      "text/latex": [
       "A tibble: 1 × 3\n",
       "\\begin{tabular}{lll}\n",
       " .metric & .estimator & .estimate\\\\\n",
       " <chr> & <chr> & <dbl>\\\\\n",
       "\\hline\n",
       "\t rsq & standard & 0.02618345\\\\\n",
       "\\end{tabular}\n"
      ],
      "text/markdown": [
       "\n",
       "A tibble: 1 × 3\n",
       "\n",
       "| .metric &lt;chr&gt; | .estimator &lt;chr&gt; | .estimate &lt;dbl&gt; |\n",
       "|---|---|---|\n",
       "| rsq | standard | 0.02618345 |\n",
       "\n"
      ],
      "text/plain": [
       "  .metric .estimator .estimate \n",
       "1 rsq     standard   0.02618345"
      ]
     },
     "metadata": {},
     "output_type": "display_data"
    }
   ],
   "source": [
    "#R2 for train_fit1\n",
    "rsq(train_results1, truth = truth,\n",
    "    estimate = .pred)"
   ]
  },
  {
   "cell_type": "code",
   "execution_count": 41,
   "metadata": {},
   "outputs": [
    {
     "data": {
      "text/html": [
       "<table>\n",
       "<caption>A tibble: 6 × 2</caption>\n",
       "<thead>\n",
       "\t<tr><th scope=col>.pred</th><th scope=col>truth</th></tr>\n",
       "\t<tr><th scope=col>&lt;dbl&gt;</th><th scope=col>&lt;dbl&gt;</th></tr>\n",
       "</thead>\n",
       "<tbody>\n",
       "\t<tr><td>0.004517752</td><td>0.00</td></tr>\n",
       "\t<tr><td>0.005056091</td><td>0.00</td></tr>\n",
       "\t<tr><td>0.004998821</td><td>0.00</td></tr>\n",
       "\t<tr><td>0.005193539</td><td>0.00</td></tr>\n",
       "\t<tr><td>0.004849918</td><td>0.06</td></tr>\n",
       "\t<tr><td>0.004517752</td><td>0.00</td></tr>\n",
       "</tbody>\n",
       "</table>\n"
      ],
      "text/latex": [
       "A tibble: 6 × 2\n",
       "\\begin{tabular}{ll}\n",
       " .pred & truth\\\\\n",
       " <dbl> & <dbl>\\\\\n",
       "\\hline\n",
       "\t 0.004517752 & 0.00\\\\\n",
       "\t 0.005056091 & 0.00\\\\\n",
       "\t 0.004998821 & 0.00\\\\\n",
       "\t 0.005193539 & 0.00\\\\\n",
       "\t 0.004849918 & 0.06\\\\\n",
       "\t 0.004517752 & 0.00\\\\\n",
       "\\end{tabular}\n"
      ],
      "text/markdown": [
       "\n",
       "A tibble: 6 × 2\n",
       "\n",
       "| .pred &lt;dbl&gt; | truth &lt;dbl&gt; |\n",
       "|---|---|\n",
       "| 0.004517752 | 0.00 |\n",
       "| 0.005056091 | 0.00 |\n",
       "| 0.004998821 | 0.00 |\n",
       "| 0.005193539 | 0.00 |\n",
       "| 0.004849918 | 0.06 |\n",
       "| 0.004517752 | 0.00 |\n",
       "\n"
      ],
      "text/plain": [
       "  .pred       truth\n",
       "1 0.004517752 0.00 \n",
       "2 0.005056091 0.00 \n",
       "3 0.004998821 0.00 \n",
       "4 0.005193539 0.00 \n",
       "5 0.004849918 0.06 \n",
       "6 0.004517752 0.00 "
      ]
     },
     "metadata": {},
     "output_type": "display_data"
    }
   ],
   "source": [
    "#train_fit2\n",
    "train_results2 <- train_fit2 %>%\n",
    "  # Make the predictions and save the predicted values\n",
    "  predict(new_data = train_data) %>%\n",
    "  # Create a new column to save the true values\n",
    "  mutate(truth = train_data$precip)\n",
    "head(train_results2)"
   ]
  },
  {
   "cell_type": "code",
   "execution_count": 42,
   "metadata": {},
   "outputs": [
    {
     "data": {
      "text/html": [
       "<table>\n",
       "<caption>A tibble: 1 × 3</caption>\n",
       "<thead>\n",
       "\t<tr><th scope=col>.metric</th><th scope=col>.estimator</th><th scope=col>.estimate</th></tr>\n",
       "\t<tr><th scope=col>&lt;chr&gt;</th><th scope=col>&lt;chr&gt;</th><th scope=col>&lt;dbl&gt;</th></tr>\n",
       "</thead>\n",
       "<tbody>\n",
       "\t<tr><td>rsq</td><td>standard</td><td>2.861045e-05</td></tr>\n",
       "</tbody>\n",
       "</table>\n"
      ],
      "text/latex": [
       "A tibble: 1 × 3\n",
       "\\begin{tabular}{lll}\n",
       " .metric & .estimator & .estimate\\\\\n",
       " <chr> & <chr> & <dbl>\\\\\n",
       "\\hline\n",
       "\t rsq & standard & 2.861045e-05\\\\\n",
       "\\end{tabular}\n"
      ],
      "text/markdown": [
       "\n",
       "A tibble: 1 × 3\n",
       "\n",
       "| .metric &lt;chr&gt; | .estimator &lt;chr&gt; | .estimate &lt;dbl&gt; |\n",
       "|---|---|---|\n",
       "| rsq | standard | 2.861045e-05 |\n",
       "\n"
      ],
      "text/plain": [
       "  .metric .estimator .estimate   \n",
       "1 rsq     standard   2.861045e-05"
      ]
     },
     "metadata": {},
     "output_type": "display_data"
    }
   ],
   "source": [
    "#R2 for train_fit2\n",
    "rsq(train_results2, truth = truth,\n",
    "    estimate = .pred)"
   ]
  },
  {
   "cell_type": "code",
   "execution_count": 43,
   "metadata": {},
   "outputs": [
    {
     "data": {
      "text/html": [
       "<table>\n",
       "<caption>A tibble: 6 × 2</caption>\n",
       "<thead>\n",
       "\t<tr><th scope=col>.pred</th><th scope=col>truth</th></tr>\n",
       "\t<tr><th scope=col>&lt;dbl&gt;</th><th scope=col>&lt;dbl&gt;</th></tr>\n",
       "</thead>\n",
       "<tbody>\n",
       "\t<tr><td>0.005492604</td><td>0.00</td></tr>\n",
       "\t<tr><td>0.005492604</td><td>0.00</td></tr>\n",
       "\t<tr><td>0.002868871</td><td>0.00</td></tr>\n",
       "\t<tr><td>0.004742966</td><td>0.00</td></tr>\n",
       "\t<tr><td>0.004742966</td><td>0.06</td></tr>\n",
       "\t<tr><td>0.008491156</td><td>0.00</td></tr>\n",
       "</tbody>\n",
       "</table>\n"
      ],
      "text/latex": [
       "A tibble: 6 × 2\n",
       "\\begin{tabular}{ll}\n",
       " .pred & truth\\\\\n",
       " <dbl> & <dbl>\\\\\n",
       "\\hline\n",
       "\t 0.005492604 & 0.00\\\\\n",
       "\t 0.005492604 & 0.00\\\\\n",
       "\t 0.002868871 & 0.00\\\\\n",
       "\t 0.004742966 & 0.00\\\\\n",
       "\t 0.004742966 & 0.06\\\\\n",
       "\t 0.008491156 & 0.00\\\\\n",
       "\\end{tabular}\n"
      ],
      "text/markdown": [
       "\n",
       "A tibble: 6 × 2\n",
       "\n",
       "| .pred &lt;dbl&gt; | truth &lt;dbl&gt; |\n",
       "|---|---|\n",
       "| 0.005492604 | 0.00 |\n",
       "| 0.005492604 | 0.00 |\n",
       "| 0.002868871 | 0.00 |\n",
       "| 0.004742966 | 0.00 |\n",
       "| 0.004742966 | 0.06 |\n",
       "| 0.008491156 | 0.00 |\n",
       "\n"
      ],
      "text/plain": [
       "  .pred       truth\n",
       "1 0.005492604 0.00 \n",
       "2 0.005492604 0.00 \n",
       "3 0.002868871 0.00 \n",
       "4 0.004742966 0.00 \n",
       "5 0.004742966 0.06 \n",
       "6 0.008491156 0.00 "
      ]
     },
     "metadata": {},
     "output_type": "display_data"
    }
   ],
   "source": [
    "#train_fit3\n",
    "train_results3 <- train_fit3 %>%\n",
    "  # Make the predictions and save the predicted values\n",
    "  predict(new_data = train_data) %>%\n",
    "  # Create a new column to save the true values\n",
    "  mutate(truth = train_data$precip)\n",
    "head(train_results3)"
   ]
  },
  {
   "cell_type": "code",
   "execution_count": 44,
   "metadata": {},
   "outputs": [
    {
     "data": {
      "text/html": [
       "<table>\n",
       "<caption>A tibble: 1 × 3</caption>\n",
       "<thead>\n",
       "\t<tr><th scope=col>.metric</th><th scope=col>.estimator</th><th scope=col>.estimate</th></tr>\n",
       "\t<tr><th scope=col>&lt;chr&gt;</th><th scope=col>&lt;chr&gt;</th><th scope=col>&lt;dbl&gt;</th></tr>\n",
       "</thead>\n",
       "<tbody>\n",
       "\t<tr><td>rsq</td><td>standard</td><td>0.004168276</td></tr>\n",
       "</tbody>\n",
       "</table>\n"
      ],
      "text/latex": [
       "A tibble: 1 × 3\n",
       "\\begin{tabular}{lll}\n",
       " .metric & .estimator & .estimate\\\\\n",
       " <chr> & <chr> & <dbl>\\\\\n",
       "\\hline\n",
       "\t rsq & standard & 0.004168276\\\\\n",
       "\\end{tabular}\n"
      ],
      "text/markdown": [
       "\n",
       "A tibble: 1 × 3\n",
       "\n",
       "| .metric &lt;chr&gt; | .estimator &lt;chr&gt; | .estimate &lt;dbl&gt; |\n",
       "|---|---|---|\n",
       "| rsq | standard | 0.004168276 |\n",
       "\n"
      ],
      "text/plain": [
       "  .metric .estimator .estimate  \n",
       "1 rsq     standard   0.004168276"
      ]
     },
     "metadata": {},
     "output_type": "display_data"
    }
   ],
   "source": [
    "#R2 for train_fit3\n",
    "rsq(train_results3, truth = truth,\n",
    "    estimate = .pred)"
   ]
  },
  {
   "cell_type": "code",
   "execution_count": 45,
   "metadata": {},
   "outputs": [
    {
     "data": {
      "text/html": [
       "<table>\n",
       "<caption>A tibble: 6 × 2</caption>\n",
       "<thead>\n",
       "\t<tr><th scope=col>.pred</th><th scope=col>truth</th></tr>\n",
       "\t<tr><th scope=col>&lt;dbl&gt;</th><th scope=col>&lt;dbl&gt;</th></tr>\n",
       "</thead>\n",
       "<tbody>\n",
       "\t<tr><td> 0.004799791</td><td>0.00</td></tr>\n",
       "\t<tr><td> 0.002689026</td><td>0.00</td></tr>\n",
       "\t<tr><td> 0.005936357</td><td>0.00</td></tr>\n",
       "\t<tr><td>-0.001045403</td><td>0.00</td></tr>\n",
       "\t<tr><td> 0.004150325</td><td>0.06</td></tr>\n",
       "\t<tr><td> 0.008696587</td><td>0.00</td></tr>\n",
       "</tbody>\n",
       "</table>\n"
      ],
      "text/latex": [
       "A tibble: 6 × 2\n",
       "\\begin{tabular}{ll}\n",
       " .pred & truth\\\\\n",
       " <dbl> & <dbl>\\\\\n",
       "\\hline\n",
       "\t  0.004799791 & 0.00\\\\\n",
       "\t  0.002689026 & 0.00\\\\\n",
       "\t  0.005936357 & 0.00\\\\\n",
       "\t -0.001045403 & 0.00\\\\\n",
       "\t  0.004150325 & 0.06\\\\\n",
       "\t  0.008696587 & 0.00\\\\\n",
       "\\end{tabular}\n"
      ],
      "text/markdown": [
       "\n",
       "A tibble: 6 × 2\n",
       "\n",
       "| .pred &lt;dbl&gt; | truth &lt;dbl&gt; |\n",
       "|---|---|\n",
       "|  0.004799791 | 0.00 |\n",
       "|  0.002689026 | 0.00 |\n",
       "|  0.005936357 | 0.00 |\n",
       "| -0.001045403 | 0.00 |\n",
       "|  0.004150325 | 0.06 |\n",
       "|  0.008696587 | 0.00 |\n",
       "\n"
      ],
      "text/plain": [
       "  .pred        truth\n",
       "1  0.004799791 0.00 \n",
       "2  0.002689026 0.00 \n",
       "3  0.005936357 0.00 \n",
       "4 -0.001045403 0.00 \n",
       "5  0.004150325 0.06 \n",
       "6  0.008696587 0.00 "
      ]
     },
     "metadata": {},
     "output_type": "display_data"
    }
   ],
   "source": [
    "#train_fit4\n",
    "train_results4 <- train_fit4 %>%\n",
    "  # Make the predictions and save the predicted values\n",
    "  predict(new_data = train_data) %>%\n",
    "  # Create a new column to save the true values\n",
    "  mutate(truth = train_data$precip)\n",
    "head(train_results4)"
   ]
  },
  {
   "cell_type": "code",
   "execution_count": 46,
   "metadata": {},
   "outputs": [
    {
     "data": {
      "text/html": [
       "<table>\n",
       "<caption>A tibble: 1 × 3</caption>\n",
       "<thead>\n",
       "\t<tr><th scope=col>.metric</th><th scope=col>.estimator</th><th scope=col>.estimate</th></tr>\n",
       "\t<tr><th scope=col>&lt;chr&gt;</th><th scope=col>&lt;chr&gt;</th><th scope=col>&lt;dbl&gt;</th></tr>\n",
       "</thead>\n",
       "<tbody>\n",
       "\t<tr><td>rsq</td><td>standard</td><td>0.0114499</td></tr>\n",
       "</tbody>\n",
       "</table>\n"
      ],
      "text/latex": [
       "A tibble: 1 × 3\n",
       "\\begin{tabular}{lll}\n",
       " .metric & .estimator & .estimate\\\\\n",
       " <chr> & <chr> & <dbl>\\\\\n",
       "\\hline\n",
       "\t rsq & standard & 0.0114499\\\\\n",
       "\\end{tabular}\n"
      ],
      "text/markdown": [
       "\n",
       "A tibble: 1 × 3\n",
       "\n",
       "| .metric &lt;chr&gt; | .estimator &lt;chr&gt; | .estimate &lt;dbl&gt; |\n",
       "|---|---|---|\n",
       "| rsq | standard | 0.0114499 |\n",
       "\n"
      ],
      "text/plain": [
       "  .metric .estimator .estimate\n",
       "1 rsq     standard   0.0114499"
      ]
     },
     "metadata": {},
     "output_type": "display_data"
    }
   ],
   "source": [
    "#R2 for train_fit4\n",
    "rsq(train_results4, truth = truth,\n",
    "    estimate = .pred)"
   ]
  },
  {
   "cell_type": "code",
   "execution_count": 47,
   "metadata": {},
   "outputs": [
    {
     "name": "stderr",
     "output_type": "stream",
     "text": [
      "Warning message:\n",
      "“Removed 127 rows containing missing values (geom_point).”"
     ]
    },
    {
     "data": {},
     "metadata": {},
     "output_type": "display_data"
    },
    {
     "data": {
      "image/png": "[encoded data removed]",
      "text/plain": [
       "plot without title"
      ]
     },
     "metadata": {},
     "output_type": "display_data",
     "source": "R display func"
    }
   ],
   "source": [
    "train_plot1 <- ggplot(train_data, aes(x=relative_humidity, y=precip)) + \n",
    "  geom_point()\n",
    "train_plot1"
   ]
  },
  {
   "cell_type": "code",
   "execution_count": 48,
   "metadata": {},
   "outputs": [
    {
     "name": "stderr",
     "output_type": "stream",
     "text": [
      "Warning message:\n",
      "“Removed 127 rows containing missing values (geom_point).”"
     ]
    },
    {
     "data": {},
     "metadata": {},
     "output_type": "display_data"
    },
    {
     "data": {
      "image/png": "[encoded data removed]",
      "text/plain": [
       "plot without title"
      ]
     },
     "metadata": {},
     "output_type": "display_data",
     "source": "R display func"
    }
   ],
   "source": [
    "train_plot2 <- ggplot(train_data, aes(x=dry_bulb_temp_f, y=precip)) + \n",
    "  geom_point()\n",
    "train_plot2"
   ]
  },
  {
   "cell_type": "code",
   "execution_count": 49,
   "metadata": {},
   "outputs": [
    {
     "name": "stderr",
     "output_type": "stream",
     "text": [
      "Warning message:\n",
      "“Removed 132 rows containing missing values (geom_point).”"
     ]
    },
    {
     "data": {},
     "metadata": {},
     "output_type": "display_data"
    },
    {
     "data": {
      "image/png": "[encoded data removed]",
      "text/plain": [
       "plot without title"
      ]
     },
     "metadata": {},
     "output_type": "display_data",
     "source": "R display func"
    }
   ],
   "source": [
    "train_plot3 <- ggplot(train_data, aes(x=wind_speed, y=precip)) + \n",
    "  geom_point()\n",
    "train_plot3"
   ]
  },
  {
   "cell_type": "code",
   "execution_count": 50,
   "metadata": {},
   "outputs": [
    {
     "name": "stderr",
     "output_type": "stream",
     "text": [
      "Warning message:\n",
      "“Removed 133 rows containing missing values (geom_point).”"
     ]
    },
    {
     "data": {},
     "metadata": {},
     "output_type": "display_data"
    },
    {
     "data": {
      "image/png": "[encoded data removed]",
      "text/plain": [
       "plot without title"
      ]
     },
     "metadata": {},
     "output_type": "display_data",
     "source": "R display func"
    }
   ],
   "source": [
    "train_plot4 <- ggplot(train_data, aes(x=station_pressure, y=precip)) + \n",
    "  geom_point()\n",
    "train_plot4"
   ]
  },
  {
   "cell_type": "markdown",
   "metadata": {},
   "source": [
    "<a id=\"cell9\"></a>\n",
    "## 9. Improve the Model\n",
    "Now, try improving the simple models you created in the previous section. \n",
    "\n",
    "Create at least two more models, each model should use at least one of the different techniques:\n",
    "1. Add more features/predictors\n",
    "2. Add regularization (L1, L2 or a mix)\n",
    "3. Add a polynomial component\n",
    "\n",
    "Also, for each of the models you create, check the model performance using the **training set** and a metric like MSE, RMSE, or R-squared.\n",
    "\n",
    "Consider using `tidymodels` if you choose to add regularization and tune lambda.\n"
   ]
  },
  {
   "cell_type": "code",
   "execution_count": 51,
   "metadata": {},
   "outputs": [
    {
     "data": {
      "text/plain": [
       "parsnip model object\n",
       "\n",
       "Fit time:  4ms \n",
       "\n",
       "Call:\n",
       "stats::lm(formula = formula, data = data)\n",
       "\n",
       "Coefficients:\n",
       "      (Intercept)  relative_humidity    dry_bulb_temp_f         wind_speed  \n",
       "        1.743e-01          3.226e-04         -3.043e-05          5.467e-04  \n",
       " station_pressure  \n",
       "       -6.520e-03  \n"
      ]
     },
     "metadata": {},
     "output_type": "display_data"
    }
   ],
   "source": [
    "#Multiple Linear Regression \n",
    "train_fit5 <- lm_spec %>% \n",
    "    fit(precip ~ ., data = train_data)\n",
    "train_fit5"
   ]
  },
  {
   "cell_type": "code",
   "execution_count": 52,
   "metadata": {},
   "outputs": [
    {
     "data": {
      "text/html": [
       "<table>\n",
       "<caption>A tibble: 6 × 2</caption>\n",
       "<thead>\n",
       "\t<tr><th scope=col>.pred</th><th scope=col>truth</th></tr>\n",
       "\t<tr><th scope=col>&lt;dbl&gt;</th><th scope=col>&lt;dbl&gt;</th></tr>\n",
       "</thead>\n",
       "<tbody>\n",
       "\t<tr><td>-0.001805022</td><td>0.00</td></tr>\n",
       "\t<tr><td> 0.012650074</td><td>0.00</td></tr>\n",
       "\t<tr><td> 0.006748938</td><td>0.00</td></tr>\n",
       "\t<tr><td> 0.002679492</td><td>0.00</td></tr>\n",
       "\t<tr><td> 0.011918378</td><td>0.06</td></tr>\n",
       "\t<tr><td> 0.014779573</td><td>0.00</td></tr>\n",
       "</tbody>\n",
       "</table>\n"
      ],
      "text/latex": [
       "A tibble: 6 × 2\n",
       "\\begin{tabular}{ll}\n",
       " .pred & truth\\\\\n",
       " <dbl> & <dbl>\\\\\n",
       "\\hline\n",
       "\t -0.001805022 & 0.00\\\\\n",
       "\t  0.012650074 & 0.00\\\\\n",
       "\t  0.006748938 & 0.00\\\\\n",
       "\t  0.002679492 & 0.00\\\\\n",
       "\t  0.011918378 & 0.06\\\\\n",
       "\t  0.014779573 & 0.00\\\\\n",
       "\\end{tabular}\n"
      ],
      "text/markdown": [
       "\n",
       "A tibble: 6 × 2\n",
       "\n",
       "| .pred &lt;dbl&gt; | truth &lt;dbl&gt; |\n",
       "|---|---|\n",
       "| -0.001805022 | 0.00 |\n",
       "|  0.012650074 | 0.00 |\n",
       "|  0.006748938 | 0.00 |\n",
       "|  0.002679492 | 0.00 |\n",
       "|  0.011918378 | 0.06 |\n",
       "|  0.014779573 | 0.00 |\n",
       "\n"
      ],
      "text/plain": [
       "  .pred        truth\n",
       "1 -0.001805022 0.00 \n",
       "2  0.012650074 0.00 \n",
       "3  0.006748938 0.00 \n",
       "4  0.002679492 0.00 \n",
       "5  0.011918378 0.06 \n",
       "6  0.014779573 0.00 "
      ]
     },
     "metadata": {},
     "output_type": "display_data"
    }
   ],
   "source": [
    "train_results5 <- train_fit5 %>%\n",
    "  # Make the predictions and save the predicted values\n",
    "  predict(new_data = train_data) %>%\n",
    "  # Create a new column to save the true values\n",
    "  mutate(truth = train_data$precip)\n",
    "head(train_results5)"
   ]
  },
  {
   "cell_type": "code",
   "execution_count": 53,
   "metadata": {},
   "outputs": [
    {
     "data": {
      "text/html": [
       "<table>\n",
       "<caption>A tibble: 1 × 3</caption>\n",
       "<thead>\n",
       "\t<tr><th scope=col>.metric</th><th scope=col>.estimator</th><th scope=col>.estimate</th></tr>\n",
       "\t<tr><th scope=col>&lt;chr&gt;</th><th scope=col>&lt;chr&gt;</th><th scope=col>&lt;dbl&gt;</th></tr>\n",
       "</thead>\n",
       "<tbody>\n",
       "\t<tr><td>rsq</td><td>standard</td><td>0.03917453</td></tr>\n",
       "</tbody>\n",
       "</table>\n"
      ],
      "text/latex": [
       "A tibble: 1 × 3\n",
       "\\begin{tabular}{lll}\n",
       " .metric & .estimator & .estimate\\\\\n",
       " <chr> & <chr> & <dbl>\\\\\n",
       "\\hline\n",
       "\t rsq & standard & 0.03917453\\\\\n",
       "\\end{tabular}\n"
      ],
      "text/markdown": [
       "\n",
       "A tibble: 1 × 3\n",
       "\n",
       "| .metric &lt;chr&gt; | .estimator &lt;chr&gt; | .estimate &lt;dbl&gt; |\n",
       "|---|---|---|\n",
       "| rsq | standard | 0.03917453 |\n",
       "\n"
      ],
      "text/plain": [
       "  .metric .estimator .estimate \n",
       "1 rsq     standard   0.03917453"
      ]
     },
     "metadata": {},
     "output_type": "display_data"
    }
   ],
   "source": [
    "#R2 for multiple linear regression\n",
    "rsq(train_results5, truth = truth,\n",
    "    estimate = .pred)"
   ]
  },
  {
   "cell_type": "markdown",
   "metadata": {},
   "source": [
    "<a id=\"cell10\"></a>\n",
    "## 10. Find Best Model\n",
    "Compare the regression metrics of each model from section 9 to find the best model overall. To do this, \n",
    "\n",
    "1. Evaluate the models on the **testing set** using at least one metric (like MSE, RMSE or R-squared).\n",
    "2. After calculating the metrics on the testing set for each model, print them out in as a table to easily compare. You can use something like:\n",
    "```\n",
    "model_names <- c(\"model_1\", \"model_2\", \"model_3\")\n",
    "train_error <- c(\"model_1_value\", \"model_2_value\", \"model_3_value\")\n",
    "test_error <- c(\"model_1_value\", \"model_2_value\", \"model_3_value\")\n",
    "comparison_df <- data.frame(model_names, train_error, test_error)\n",
    "```\n",
    "3. Finally, from the comparison table you create, conclude which model performed the best.\n"
   ]
  },
  {
   "cell_type": "code",
   "execution_count": 7,
   "metadata": {},
   "outputs": [
    {
     "data": {
      "text/html": [
       "<table>\n",
       "<caption>A data.frame: 7 × 2</caption>\n",
       "<thead>\n",
       "\t<tr><th scope=col>model_names</th><th scope=col>sqr</th></tr>\n",
       "\t<tr><th scope=col>&lt;fct&gt;</th><th scope=col>&lt;fct&gt;</th></tr>\n",
       "</thead>\n",
       "<tbody>\n",
       "\t<tr><td>precip ~ relative_humidity</td><td>0.02471808  </td></tr>\n",
       "\t<tr><td>precip ~ dry_bulb_temp_f  </td><td>0.0002962591</td></tr>\n",
       "\t<tr><td>precip ~ wind_speed       </td><td>0.003871889 </td></tr>\n",
       "\t<tr><td>precip ~ station_pressure </td><td>0.0002849881</td></tr>\n",
       "\t<tr><td>Multiple Linear Regression</td><td>0.03841775  </td></tr>\n",
       "\t<tr><td>Ridge (L2) regularization </td><td>0.03022052  </td></tr>\n",
       "\t<tr><td>Elastic Net Regularization</td><td>0.03805498  </td></tr>\n",
       "</tbody>\n",
       "</table>\n"
      ],
      "text/latex": [
       "A data.frame: 7 × 2\n",
       "\\begin{tabular}{ll}\n",
       " model\\_names & sqr\\\\\n",
       " <fct> & <fct>\\\\\n",
       "\\hline\n",
       "\t precip \\textasciitilde{} relative\\_humidity & 0.02471808  \\\\\n",
       "\t precip \\textasciitilde{} dry\\_bulb\\_temp\\_f   & 0.0002962591\\\\\n",
       "\t precip \\textasciitilde{} wind\\_speed        & 0.003871889 \\\\\n",
       "\t precip \\textasciitilde{} station\\_pressure  & 0.0002849881\\\\\n",
       "\t Multiple Linear Regression & 0.03841775  \\\\\n",
       "\t Ridge (L2) regularization  & 0.03022052  \\\\\n",
       "\t Elastic Net Regularization & 0.03805498  \\\\\n",
       "\\end{tabular}\n"
      ],
      "text/markdown": [
       "\n",
       "A data.frame: 7 × 2\n",
       "\n",
       "| model_names &lt;fct&gt; | sqr &lt;fct&gt; |\n",
       "|---|---|\n",
       "| precip ~ relative_humidity | 0.02471808   |\n",
       "| precip ~ dry_bulb_temp_f   | 0.0002962591 |\n",
       "| precip ~ wind_speed        | 0.003871889  |\n",
       "| precip ~ station_pressure  | 0.0002849881 |\n",
       "| Multiple Linear Regression | 0.03841775   |\n",
       "| Ridge (L2) regularization  | 0.03022052   |\n",
       "| Elastic Net Regularization | 0.03805498   |\n",
       "\n"
      ],
      "text/plain": [
       "  model_names                sqr         \n",
       "1 precip ~ relative_humidity 0.02471808  \n",
       "2 precip ~ dry_bulb_temp_f   0.0002962591\n",
       "3 precip ~ wind_speed        0.003871889 \n",
       "4 precip ~ station_pressure  0.0002849881\n",
       "5 Multiple Linear Regression 0.03841775  \n",
       "6 Ridge (L2) regularization  0.03022052  \n",
       "7 Elastic Net Regularization 0.03805498  "
      ]
     },
     "metadata": {},
     "output_type": "display_data"
    }
   ],
   "source": [
    "model_names <- c(\"precip ~ relative_humidity\",\"precip ~ dry_bulb_temp_f\",\"precip ~ wind_speed\",\"precip ~ station_pressure\",\"Multiple Linear Regression\", \"Ridge (L2) regularization\", \"Elastic Net Regularization\")\n",
    "sqr <- c(\"0.02471808\",\"0.0002962591\",\"0.003871889\",\"0.0002849881\",\"0.03841775\", \"0.03022052\", \"0.03805498\")\n",
    "comparison_df <- data.frame(model_names, sqr)\n",
    "comparison_df"
   ]
  },
  {
   "cell_type": "markdown",
   "metadata": {},
   "source": [
    "## Author(s)\n",
    "\n",
    "<h4> Yiwen Li </h4>\n",
    "\n",
    "## Contributions\n",
    "\n",
    "<h4> Tiffany Zhu </h4>\n",
    "\n",
    "## <h3 align=\"center\"> © IBM Corporation 2021. All rights reserved. <h3/>\n"
   ]
  }
 ],
 "metadata": {
  "kernelspec": {
   "display_name": "R",
   "language": "R",
   "name": "conda-env-r-r"
  },
  "language_info": {
   "codemirror_mode": "r",
   "file_extension": ".r",
   "mimetype": "text/x-r-source",
   "name": "R",
   "pygments_lexer": "r",
   "version": "3.5.1"
  }
 },
 "nbformat": 4,
 "nbformat_minor": 4
}
